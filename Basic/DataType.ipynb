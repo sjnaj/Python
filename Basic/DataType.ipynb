{
 "cells": [
  {
   "cell_type": "markdown",
   "metadata": {},
   "source": [
    "# DataType\n",
    "\n",
    "## int \n",
    "\n",
    "### scale convertion"
   ]
  },
  {
   "cell_type": "code",
   "execution_count": 1,
   "metadata": {},
   "outputs": [
    {
     "name": "stdout",
     "output_type": "stream",
     "text": [
      "170\n",
      "170\n",
      "170\n",
      "0b10101010\n",
      "0o252\n",
      "0xaa\n",
      "0b10101010\n",
      "0b10101010\n"
     ]
    }
   ],
   "source": [
    "print(int('10101010', 2))\n",
    "print(int('252', 8))\n",
    "print(int('0xAA', 16))\n",
    "print(bin(170))\n",
    "print(oct(170))\n",
    "print(hex(170))\n",
    "\n",
    "print(bin(0o252))\n",
    "print(bin(0xaa))\n"
   ]
  },
  {
   "cell_type": "markdown",
   "metadata": {},
   "source": [
    "\n",
    "## String\n",
    "\n",
    "### Basic\n",
    "\n",
    "A double quoted string literal can contain single quotes without any fuss (e.g. \"I didn't do it\") and likewise single quoted string can contain double quotes. A string literal can span multiple lines, but there must be a backslash **\\\\** at the end of each line to escape the newline. String literals inside triple quotes, **\"\"\" or '''**, can span multiple lines of text."
   ]
  },
  {
   "cell_type": "code",
   "execution_count": 2,
   "metadata": {},
   "outputs": [
    {
     "name": "stdout",
     "output_type": "stream",
     "text": [
      "i\n",
      "2\n",
      "hi there\n",
      "lala      haha    \n",
      "\n",
      "      haha\n",
      "      lala\n",
      "      \n"
     ]
    }
   ],
   "source": [
    "s = 'hi'\n",
    "print(s[1])  # i\n",
    "print(len(s))  # 2\n",
    "print(s + ' there')  # hi there\n",
    "print('lala\\\n",
    "      haha\\\n",
    "    ')  # lala    haha\n",
    "\n",
    "print('''\n",
    "      haha\n",
    "      lala\n",
    "      '''\n",
    "      )  # haha\n",
    "# lala\n"
   ]
  },
  {
   "cell_type": "markdown",
   "metadata": {},
   "source": [
    "Unlike Java, the '+' does not automatically convert numbers or other types to string form. The str() function converts values to a string form so they can be combined with other strings."
   ]
  },
  {
   "cell_type": "code",
   "execution_count": 3,
   "metadata": {},
   "outputs": [
    {
     "name": "stdout",
     "output_type": "stream",
     "text": [
      "The value of pi is 3.14\n"
     ]
    }
   ],
   "source": [
    "\n",
    "pi = 3.14\n",
    "# text = 'The value of pi is ' + pi      ## NO, does not work\n",
    "text = 'The value of pi is ' + str(pi)  # yes\n",
    "# !尽量不要用关键字命名变量，即使当前文件没有，但编译器可能依然保留着之前其它文件运行的信息\n",
    "print(text)\n"
   ]
  },
  {
   "cell_type": "markdown",
   "metadata": {},
   "source": [
    "For numbers, the standard operators, +, /, * work in the usual way. **There is no ++ operator, but +=, -=, etc. work**. If you want integer division, it is most correct to use 2 slashes -- e.g. 6 // 5 is 1 (previous to python 3, a single / does int division with ints anyway, but moving forward // is the preferred way to indicate that you want int division.)"
   ]
  },
  {
   "cell_type": "code",
   "execution_count": 4,
   "metadata": {},
   "outputs": [
    {
     "name": "stdout",
     "output_type": "stream",
     "text": [
      "1.5\n",
      "1\n"
     ]
    }
   ],
   "source": [
    "print(3/2)\n",
    "print(3//2)\n"
   ]
  },
  {
   "cell_type": "markdown",
   "metadata": {},
   "source": [
    "The \"print\" operator prints out one or more python items followed by a newline (**<font color=MediumTurquoise>leave a trailing comma at the end of the items to inhibit the newline </font>**). A \"raw\" string literal is prefixed by an 'r' and passes all the chars through without special treatment of backslashes, so r'x\\nx' evaluates to the length-4 string 'x\\nx'. A 'u' prefix allows you to write a unicode string literal "
   ]
  },
  {
   "cell_type": "markdown",
   "metadata": {},
   "source": [
    "Regular(标准) Python strings are *not* unicode, they are just plain bytes(普通字节). \n",
    "\n",
    "A unicode string is a different type of object from regular \"str\" string, but the unicode string is compatible (they share the common superclass \"basestring\"), and *the various libraries such as regular expressions work correctly if passed a unicode string instead of a regular string*.\n",
    "\n",
    "<font color=MediumTurquoise> 在python3中，str对象中获取的元素是Unicode字符 - 在python2中，str对象中获取的原始字节序列</font>\n",
    "\n",
    "To convert a unicode string to bytes with an encoding such as 'utf-8', call the ustring.encode('utf-8') method on the unicode string. Going the other direction, the unicode(s, encoding) function converts encoded plain bytes to a unicode string:"
   ]
  },
  {
   "cell_type": "code",
   "execution_count": 5,
   "metadata": {},
   "outputs": [
    {
     "name": "stdout",
     "output_type": "stream",
     "text": [
      "this\\t\\n and that\n",
      "A unicode 😍 😂 string ñ\n",
      "b'A unicode \\xf0\\x9f\\x98\\x8d \\xf0\\x9f\\x98\\x82 string \\xc3\\xb1'\n",
      "True\n"
     ]
    }
   ],
   "source": [
    "raw = r'this\\t\\n and that'\n",
    "print(raw)\n",
    "ustring = u'A unicode 😍 \\U0001F602 string \\xf1'  # 注意较长的unicode要补足8位，短的用\\u,四位\n",
    "print(ustring)  # utf-8\n",
    "s = ustring.encode('utf-8')\n",
    "print(s)\n",
    "t = str(s, 'utf-8')  # !python2 use unicode instead str\n",
    "print(ustring == t)\n"
   ]
  },
  {
   "cell_type": "markdown",
   "metadata": {},
   "source": [
    "Python has a *printf()-like facility* to put together a string. The % operator takes a printf-type format string on the left (%d int, %s string, %f/%g floating point), and the matching values in a tuple on the right (*<font color=MediumTurquoise>a tuple is made of values separated by commas, typically grouped inside parentheses</font>*):\n",
    "\n",
    "Since by default Python <font color=MediumTurquoise>treats each line as a separate statement</font> (on the plus side, this is why we don't need to type semi-colons on each line). To fix this, enclose the whole expression in an outer set of parenthesis -- then the expression is allowed to span multiple lines. This code-across-lines technique works with the various grouping constructs detailed below: **( ), [ ], { }**."
   ]
  },
  {
   "cell_type": "code",
   "execution_count": 6,
   "metadata": {},
   "outputs": [
    {
     "name": "stdout",
     "output_type": "stream",
     "text": [
      "3 little pigs come out, or I'll huff, and I'll puff, and I'll blow your house down.\n",
      "3 little pigs come out, or I'll huff, and I'll puff, and I'll blow your house down.\n"
     ]
    }
   ],
   "source": [
    "# % operator\n",
    "text = \"%d little pigs come out, or I'll %s, and I'll %s, and I'll blow your %s down.\" % (\n",
    "    3, 'huff', 'puff', 'house')\n",
    "print(text)\n",
    "\n",
    "# Add parentheses to make the long line work:\n",
    "text = (\n",
    "    \"%d little pigs come out, or I'll %s, and I'll %s, and I'll blow your %s down.\"\n",
    "    % (3, 'huff', 'puff', 'house'))\n",
    "print(text)\n",
    "\n",
    "# Split the line into chunks, which are concatenated automatically by Python\n",
    "text = (\n",
    "    \"%d little pigs come out, \"\n",
    "    \"or I'll %s, and I'll %s, \"\n",
    "    \"and I'll blow your %s down.\"\n",
    "    % (3, 'huff', 'puff', 'house'))\n"
   ]
  },
  {
   "cell_type": "markdown",
   "metadata": {},
   "source": [
    "### format\n",
    "\n",
    "{ [index][ : [ [fill] [align] [sign] [width] [.precision] [type] ] }\n",
    "\n",
    "- index：指定：后边设置的格式要作用到 args 中第几个数据，数据的索引值从 0 开始。如果省略此选项，则会根据 args 中数据的先后顺序自动分配。\n",
    "- fill：指定空白处填充的字符。注意，当填充字符为逗号(,)且作用于整数或浮点数时，该整数（或浮点数）会以逗号分隔的形式输出，例如（1000000会输出 1,000,000）。\n",
    "- align：指定数据的对齐方式\n",
    "  - align\t含义\n",
    "    - <\t数据左对齐。\n",
    "    - \\>\t数据右对齐。\n",
    "    - =\t数据右对齐，同时将符号放置在填充内容的最左侧，该选项只对数字类型有效。\n",
    "    - ^\t数据居中，此选项需和 width 参数一起使用。\n",
    "\n",
    "- sign参数\t\n",
    "  - 含义\n",
    "    - \\+\t正数前加正号，负数前加负号。\n",
    "    - \\-\t正数前不加正号，负数前加负号。\n",
    "    - 空格\t正数前加空格，负数前加负号。\n",
    "    - \\#\t对于二进制数、八进制数和十六进制数，使用此参数，各进制数前会分别显示 0b、0o、0x前缀；反之则不显示前缀。\n",
    "\n"
   ]
  },
  {
   "cell_type": "code",
   "execution_count": 7,
   "metadata": {},
   "outputs": [
    {
     "name": "stdout",
     "output_type": "stream",
     "text": [
      "货币形式：1,000,000\n",
      "科学计数法：1.200120E+03\n",
      "100的十六进制：0x64\n",
      "0.01的百分比表示：1%\n"
     ]
    }
   ],
   "source": [
    "#以货币形式显示\n",
    "print(\"货币形式：{:,d}\".format(1000000))\n",
    "#科学计数法表示\n",
    "print(\"科学计数法：{:E}\".format(1200.12))\n",
    "#以十六进制表示\n",
    "print(\"100的十六进制：{:#x}\".format(100))\n",
    "#输出百分比形式\n",
    "print(\"0.01的百分比表示：{:.0%}\".format(0.01))"
   ]
  },
  {
   "cell_type": "markdown",
   "metadata": {},
   "source": [
    "### String Methods\n",
    "\n",
    " Here are some of the most common string methods:\n",
    "\n",
    "- s.lower(), s.upper() -- returns the lowercase or uppercase version of the string\n",
    "- s.strip() -- returns a string with whitespace removed from the start and end\n",
    "- s.isalpha()/s.isdigit()/s.isspace()... -- tests if all the string chars are in the various character classes\n",
    "- s.startswith('other'), s.endswith('other') -- tests if the string starts or ends with the given other string\n",
    "- s.find('other') -- searches for the given other string (not a regular expression) within s, and returns the first index where it begins or -1 if not found\n",
    "- s.replace('old', 'new') -- returns a string where all occurrences of 'old' have been replaced by 'new'\n",
    "- s.split('delim') -- returns a list of substrings separated by the given delimiter. The delimiter is not a regular expression, it's just text. 'aaa,bbb,ccc'.split(',') -> ['aaa', 'bbb', 'ccc']. As a convenient special case s.split() (with no arguments) splits on all whitespace chars.\n",
    "- s.join(list) -- opposite of split(), joins the elements in the given list together using the string as the delimiter. e.g. '---'.join(['aaa', 'bbb', 'ccc']) -> aaa---bbb---ccc\n",
    "\n",
    "**Python does not have a separate character type**. Instead an expression like s[8] returns a string-length-1 containing the character. With that string-length-1, the operators ==, <=, ... all work as you would expect, so mostly you don't need to know that Python does not have a separate scalar \"char\" type.\n",
    "\n",
    "#### String Slices\n",
    "\n",
    "sequence[indexStart : indexEnd : stride]\n",
    "\n",
    "按步长stride从序列sequence中取出从indexStart开始到indexEnd终止范围内的元素组成一个新的序列\n",
    "\n",
    "indexStart: 起始索引号，它的值可以是正的也可以是负的，它所对应的元素会加入到新的序列中；该索引号指的是原始序列中的索引号，而不是新序列中的索引号\n",
    "\n",
    "indexEnd:  终止索引号，它的值可以是正的也可以是负的，它所对应的元素不会加入到新的序列中；该索引号指的是原始序列中的索引号，而不是新序列中的索引号\n",
    "\n",
    "stride:        步长，它的值可以是正的也可以是负的，可以省略，省略时使用默认步长，**默认步长为正1**\n",
    "\n",
    "indexStart 可以省略，省略时，若stride为正的，则表示序列的首个元素；若stride为负的，则表示序列的最后一个元素\n",
    "\n",
    "indexEnd  也可以省略，省略时，若stride为正的，则表示序列的最后一个元素；若stride为负的，则表示序列的首个元素\n"
   ]
  },
  {
   "cell_type": "code",
   "execution_count": 8,
   "metadata": {},
   "outputs": [
    {
     "name": "stdout",
     "output_type": "stream",
     "text": [
      "ell\n",
      "ello\n",
      "ello\n",
      "o\n",
      "He\n",
      "True\n",
      "Hello\n"
     ]
    }
   ],
   "source": [
    "import random\n",
    "s='Hello'\n",
    "# !左闭右开\n",
    "print(s[1:4])\n",
    "print(s[1:])\n",
    "print(s[1:100])\n",
    "print(s[-1])\n",
    "print(s[:-3])\n",
    "index=random.randint(-100,100)\n",
    "print(s[index:]+s[:index]==s)#* True This works even for n negative or out of bounds. \n",
    "# Or put another way s[:n] and s[n:] always partition the string into two string parts, conserving all the characters\n",
    "\n",
    "s_copy=s[:]\n",
    "print(s_copy)"
   ]
  },
  {
   "cell_type": "markdown",
   "metadata": {},
   "source": [
    "## bytes\n",
    "\n",
    "字节串（bytes）和字符串（string）的对比：\n",
    "- 字符串由若干个字符组成，以字符为单位进行操作；字节串由若干个字节组成，以字节为单位进行操作。\n",
    "- 字节串和字符串除了操作的数据单元不同之外，它们支持的所有方法都基本相同。\n",
    "- 字节串和字符串都是不可变序列，不能随意增加和删除数据。"
   ]
  },
  {
   "cell_type": "code",
   "execution_count": 9,
   "metadata": {},
   "outputs": [
    {
     "name": "stdout",
     "output_type": "stream",
     "text": [
      "b3:  b'http://c.biancheng.net/python/'\n",
      "112\n",
      "b'c.biancheng.net'\n",
      "b4:  b'C\\xe8\\xaf\\xad\\xe8\\xa8\\x80\\xe4\\xb8\\xad\\xe6\\x96\\x87\\xe7\\xbd\\x918\\xe5\\xb2\\x81\\xe4\\xba\\x86'\n",
      "b5:  b'C\\xe8\\xaf\\xad\\xe8\\xa8\\x80\\xe4\\xb8\\xad\\xe6\\x96\\x87\\xe7\\xbd\\x918\\xe5\\xb2\\x81\\xe4\\xba\\x86'\n",
      "str1:  C语言中文网8岁了\n"
     ]
    }
   ],
   "source": [
    "#通过构造函数创建空 bytes\n",
    "b1 = bytes()\n",
    "#通过空字符串创建空 bytes\n",
    "b2 = b''\n",
    "#通过b前缀将字符串转换成 bytes\n",
    "b3 = b'http://c.biancheng.net/python/'\n",
    "print(\"b3: \", b3)\n",
    "print(b3[3])\n",
    "print(b3[7:22])\n",
    "#为 bytes() 方法指定字符集\n",
    "b4 = bytes('C语言中文网8岁了', encoding='UTF-8')\n",
    "print(\"b4: \", b4)\n",
    "#通过 encode() 方法将字符串转换成 bytes\n",
    "b5 = \"C语言中文网8岁了\".encode('UTF-8')\n",
    "print(\"b5: \", b5)\n",
    "\n",
    "#通过 decode() 方法将 bytes 转换成字符串\n",
    "str1 = b5.decode('UTF-8')\n",
    "print(\"str1: \", str1)"
   ]
  },
  {
   "cell_type": "markdown",
   "metadata": {},
   "source": [
    "## list\n",
    "\n",
    "### basic\n",
    "\n",
    "Lists work similarly to strings -- use the len() function and square brackets [ ] to access data, with the first element at index 0. "
   ]
  },
  {
   "cell_type": "code",
   "execution_count": 10,
   "metadata": {},
   "outputs": [
    {
     "name": "stdout",
     "output_type": "stream",
     "text": [
      "red\n",
      "green\n",
      "3\n",
      "['red', 'blue', 'green', 1, 2, 3]\n"
     ]
    }
   ],
   "source": [
    "colors = ['red', 'blue', 'green']\n",
    "print (colors[0])  # red\n",
    "print (colors[2])  # green\n",
    "print (len(colors))  # 3\n",
    "print(colors+[1,2,3])\n"
   ]
  },
  {
   "cell_type": "markdown",
   "metadata": {},
   "source": [
    "### loop"
   ]
  },
  {
   "cell_type": "code",
   "execution_count": 11,
   "metadata": {},
   "outputs": [
    {
     "name": "stdout",
     "output_type": "stream",
     "text": [
      "30\n",
      "h e l l o yay\n",
      "1*1= 1 1*2= 2 1*3= 3 1*4= 4 1*5= 5 1*6= 6 1*7= 7 1*8= 8 1*9= 9 \n",
      "2*1= 2 2*2= 4 2*3= 6 2*4= 8 2*5=10 2*6=12 2*7=14 2*8=16 2*9=18 \n",
      "3*1= 3 3*2= 6 3*3= 9 3*4=12 3*5=15 3*6=18 3*7=21 3*8=24 3*9=27 \n",
      "4*1= 4 4*2= 8 4*3=12 4*4=16 4*5=20 4*6=24 4*7=28 4*8=32 4*9=36 \n",
      "5*1= 5 5*2=10 5*3=15 5*4=20 5*5=25 5*6=30 5*7=35 5*8=40 5*9=45 \n",
      "6*1= 6 6*2=12 6*3=18 6*4=24 6*5=30 6*6=36 6*7=42 6*8=48 6*9=54 \n",
      "7*1= 7 7*2=14 7*3=21 7*4=28 7*5=35 7*6=42 7*7=49 7*8=56 7*9=63 \n",
      "8*1= 8 8*2=16 8*3=24 8*4=32 8*5=40 8*6=48 8*7=56 8*8=64 8*9=72 \n",
      "9*1= 9 9*2=18 9*3=27 9*4=36 9*5=45 9*6=54 9*7=63 9*8=72 9*9=81 \n",
      "0 3 6 9 12 15 18 \n"
     ]
    }
   ],
   "source": [
    "squares = [1, 4, 9, 16]\n",
    "sum = 0\n",
    "for num in squares:\n",
    "    sum += num\n",
    "print(sum)  # 30\n",
    "\n",
    "# can also use for/in to work on a string\n",
    "\n",
    "for ch in \"hello\":\n",
    "    print(ch, end=' ')  # !指定末尾字符\n",
    "\n",
    "list = ['larry', 'curly', 'moe']\n",
    "if 'curly' in list:\n",
    "    print('yay')\n",
    "\n",
    "# Print the multiplication table\n",
    "for i in range(1, 10):\n",
    "    for j in range(1, 10):\n",
    "        print(\"{:d}*{:d}={:2d}\".format(i, j, i*j),end=' ')\n",
    "    print()\n",
    "a = range(20)\n",
    "# Access every 3rd element in a list\n",
    "i = 0\n",
    "while i < len(a):\n",
    "    print(a[i], end=' ')\n",
    "    i = i + 3\n",
    "print()\n"
   ]
  },
  {
   "cell_type": "markdown",
   "metadata": {},
   "source": [
    "### List Methods\n",
    "\n",
    "Here are some other common list methods.\n",
    "\n",
    "- list.append(elem) -- adds a single element to the end of the list. Common error: does not return the new list, just modifies the original.\n",
    "- list.insert(index, elem) -- inserts the element at the given index, shifting elements to the right.\n",
    "- list.extend(list2) adds the elements in list2 to the end of the list. Using + or += on a list is similar to using extend().\n",
    "- list.index(elem) -- searches for the given element from the start of the list and returns its index. Throws a ValueError if the element does not appear (use \"in\" to check without a ValueError).\n",
    "- list.remove(elem) -- searches for the first instance of the given element and removes it (throws ValueError if not present)\n",
    "- list.sort() -- sorts the list in place (does not return it). (The sorted() function shown later is preferred.)\n",
    "- list.reverse() -- reverses the list in place (does not return it)\n",
    "- list.pop(index) -- removes and returns the element at the given index. Returns the rightmost element if index is omitted (roughly the opposite of append())."
   ]
  },
  {
   "cell_type": "code",
   "execution_count": 12,
   "metadata": {},
   "outputs": [
    {
     "name": "stdout",
     "output_type": "stream",
     "text": [
      "['xxx', 'larry', 'curly', 'moe', 'shemp', 'yyy', 'zzz']\n",
      "2\n",
      "['xxx', 'moe', 'shemp', 'yyy', 'zzz']\n"
     ]
    }
   ],
   "source": [
    "list = ['larry', 'curly', 'moe']\n",
    "list.append('shemp')  # append elem at end\n",
    "list.insert(0, 'xxx')  # insert elem at index 0\n",
    "list.extend(['yyy', 'zzz'])  # add list of elems at end\n",
    "print (list)  # ['xxx', 'larry', 'curly', 'moe', 'shemp', 'yyy', 'zzz']\n",
    "print (list.index('curly'))  # 2\n",
    "\n",
    "list.remove('curly')  # search and remove that element\n",
    "list.pop(1)  # removes and returns 'larry'\n",
    "print (list)  # ['xxx', 'moe', 'shemp', 'yyy', 'zzz']\n"
   ]
  },
  {
   "cell_type": "markdown",
   "metadata": {},
   "source": [
    "#### List Build Up\n",
    "\n",
    "```python\n",
    "list = []          ## Start as the empty list\n",
    "list.append('a')   ## Use append() to add elements\n",
    "list.append('b')\n",
    "\n",
    "```\n",
    "\n",
    "#### List Slice"
   ]
  },
  {
   "cell_type": "code",
   "execution_count": 13,
   "metadata": {},
   "outputs": [
    {
     "name": "stdout",
     "output_type": "stream",
     "text": [
      "['b', 'c']\n",
      "['z', 'c', 'd']\n"
     ]
    }
   ],
   "source": [
    "list = ['a', 'b', 'c', 'd']\n",
    "print (list[1:-1])  # ['b', 'c']\n",
    "list[0:2] = 'z'  # replace ['a', 'b'] with ['z']\n",
    "print (list)  # ['z', 'c', 'd']"
   ]
  },
  {
   "cell_type": "code",
   "execution_count": null,
   "metadata": {},
   "outputs": [],
   "source": []
  },
  {
   "cell_type": "markdown",
   "metadata": {},
   "source": [
    "#### sort"
   ]
  },
  {
   "cell_type": "code",
   "execution_count": 14,
   "metadata": {},
   "outputs": [
    {
     "name": "stdout",
     "output_type": "stream",
     "text": [
      "[1, 2, 2, 3, 6, 7]\n",
      "[7, 6, 3, 2, 2, 1]\n",
      "[1, 2, 2, 3, 6, 7]\n",
      "[7, 6, 3, 2, 2, 1]\n",
      "['d', 'bb', 'ccc', 'aaaa']\n"
     ]
    }
   ],
   "source": [
    "list = [1, 2, 3, 2, 6, 7]\n",
    "list.sort()  # sorts\n",
    "print(list)\n",
    "list.sort(reverse=True)\n",
    "print(list)\n",
    "\n",
    "print(sorted(list))\n",
    "print(sorted(list, reverse=True))\n",
    "\n",
    "strs = ['ccc', 'aaaa', 'd', 'bb']\n",
    "print (sorted(strs, key=len))  # ['d', 'bb', 'ccc', 'aaaa']\n"
   ]
  },
  {
   "cell_type": "markdown",
   "metadata": {},
   "source": [
    "#### Custom Sorting With key="
   ]
  },
  {
   "cell_type": "code",
   "execution_count": 15,
   "metadata": {},
   "outputs": [
    {
     "name": "stdout",
     "output_type": "stream",
     "text": [
      "['d', 'bb', 'ccc', 'aaaa']\n",
      "['aaaa', 'bb', 'ccc', 'd']\n",
      "['wa', 'zb', 'xc', 'yd']\n",
      "[(4, 3), (3, 6), (9, 4), (2, 10)]\n"
     ]
    },
    {
     "data": {
      "text/plain": [
       "' \\ndef cmp_to_key(mycmp):\\n    \"\"\"Convert a cmp= function into a key= function\"\"\"\\n    class K(object):\\n        __slots__ = [\\'obj\\']\\n        def __init__(self, obj):\\n            self.obj = obj\\n        def __lt__(self, other):\\n            return mycmp(self.obj, other.obj) < 0\\n        def __gt__(self, other):\\n            return mycmp(self.obj, other.obj) > 0\\n        def __eq__(self, other):\\n            return mycmp(self.obj, other.obj) == 0\\n        def __le__(self, other):\\n            return mycmp(self.obj, other.obj) <= 0\\n        def __ge__(self, other):\\n            return mycmp(self.obj, other.obj) >= 0\\n        __hash__ = None\\n    return K\\n'"
      ]
     },
     "execution_count": 15,
     "metadata": {},
     "output_type": "execute_result"
    }
   ],
   "source": [
    "from functools import cmp_to_key\n",
    "strs = ['ccc', 'aaaa', 'd', 'bb']\n",
    "print(sorted(strs, key=len))  # ['d', 'bb', 'ccc', 'aaaa']\n",
    "# \"key\" argument specifying str.lower function to use for sorting\n",
    "print(sorted(strs, key=str.lower))  # ['aa', 'BB', 'CC', 'zz']\n",
    "\n",
    "# Say we have a list of strings we want to sort by the last letter of the string.\n",
    "strs = ['xc', 'zb', 'yd', 'wa']\n",
    "\n",
    "# Write a little function that takes a string, and returns its last letter.\n",
    "# *This will be the key function (takes in 1 value, returns 1 value).\n",
    "\n",
    "\n",
    "def MyFn(s):\n",
    "    return s[-1]\n",
    "\n",
    "\n",
    "# *Now pass key=MyFn to sorted() to sort by the last letter:\n",
    "print(sorted(strs, key=MyFn))  # ['wa', 'zb', 'xc', 'yd']\n",
    "\n",
    "'''\n",
    "如果元组里第一个元素是奇数，就用元组里第一个元素进行排序，\n",
    "如果元组里第一个元素是偶数，则用这个元组里的第二个元素进行大小比较\n",
    "'''\n",
    "\n",
    "lst = [(9, 4), (2, 10), (4, 3), (3, 6)]\n",
    "\n",
    "\n",
    "def cmp(x, y):\n",
    "    a = x[0] if x[0] % 2 == 1 else x[1]  # !python 三目运算符写法\n",
    "    b = y[0] if y[0] % 2 == 1 else y[1]\n",
    "\n",
    "    return (a>b)-(a<b)\n",
    "    # return 1 if a > b else -1 if a < b else 0\n",
    "\n",
    "\n",
    "lst.sort(key=cmp_to_key(cmp))\n",
    "print(lst)\n",
    "# print(sorted(list,cmp=cmp))\n",
    "# !在python3中，cmp关键字被移除了，这样的写法就无法运行了\n",
    "\n",
    "''' \n",
    "def cmp_to_key(mycmp):\n",
    "    \"\"\"Convert a cmp= function into a key= function\"\"\"\n",
    "    class K(object):\n",
    "        __slots__ = ['obj']\n",
    "        def __init__(self, obj):\n",
    "            self.obj = obj\n",
    "        def __lt__(self, other):\n",
    "            return mycmp(self.obj, other.obj) < 0\n",
    "        def __gt__(self, other):\n",
    "            return mycmp(self.obj, other.obj) > 0\n",
    "        def __eq__(self, other):\n",
    "            return mycmp(self.obj, other.obj) == 0\n",
    "        def __le__(self, other):\n",
    "            return mycmp(self.obj, other.obj) <= 0\n",
    "        def __ge__(self, other):\n",
    "            return mycmp(self.obj, other.obj) >= 0\n",
    "        __hash__ = None\n",
    "    return K\n",
    "'''\n"
   ]
  },
  {
   "cell_type": "markdown",
   "metadata": {},
   "source": [
    "#### reverse "
   ]
  },
  {
   "cell_type": "code",
   "execution_count": 16,
   "metadata": {},
   "outputs": [
    {
     "name": "stdout",
     "output_type": "stream",
     "text": [
      "<class 'list'>\n",
      "<class 'list_reverseiterator'>\n",
      "[9, 8, 7, 6, 5, 4, 3, 2, 1, 0]\n",
      "[9, 8, 7, 6, 5, 4, 3, 2, 1, 0]\n",
      "[9, 8, 7, 6, 5, 4, 3, 2, 1, 0]\n"
     ]
    }
   ],
   "source": [
    "\n",
    "# 第一种\n",
    "# li=range(0,10)#python2返回list，3是range\n",
    "# li=list(li) #python3.7之前\n",
    "li=[*range(10)] #!当前语法 range->list\n",
    "print(type(li))\n",
    "rli=[*reversed(li)]\n",
    "print(type(reversed(li))) #*list_reverseiterator->list\n",
    "print(rli)\n",
    "\n",
    "#第二种\n",
    "print(sorted(li,reverse=True))\n",
    "\n",
    "# *第三种(最简便)\n",
    "\n",
    "print(li[::-1])\n",
    "\n",
    "#"
   ]
  },
  {
   "cell_type": "markdown",
   "metadata": {},
   "source": [
    "### List Comprehensions(列表推导式)\n",
    "\n",
    "The syntax is [ expr for var in list ] -- the for var in list looks like a regular for-loop, but without the colon (:). The expr to its left is evaluated once for each element to give the values for the new list. "
   ]
  },
  {
   "cell_type": "code",
   "execution_count": 17,
   "metadata": {},
   "outputs": [
    {
     "name": "stdout",
     "output_type": "stream",
     "text": [
      "[0, 1, 2, 3, 4, 5, 6, 7, 8, 9]\n",
      "[0, 1, 4, 9, 16, 25, 36, 49, 64, 81]\n",
      "['HELLO!!!', 'AND!!!', 'GOODBYE!!!']\n",
      "['APPLE', 'BANANA']\n"
     ]
    }
   ],
   "source": [
    "li = [n for n in range(10)]\n",
    "print(li)\n",
    "print([n*n for n in range(10)])\n",
    "\n",
    "strs = ['hello', 'and', 'goodbye']\n",
    "\n",
    "shouting = [s.upper() + '!!!' for s in strs]\n",
    "print(shouting)\n",
    "\n",
    "fruits = ['apple', 'cherry', 'banana', 'lemon']\n",
    "afruits = [s.upper() for s in fruits if 'a' in s]\n",
    "print(afruits)\n"
   ]
  },
  {
   "cell_type": "markdown",
   "metadata": {},
   "source": [
    "## tuple\n",
    "\n",
    "### basic\n",
    "\n",
    "A tuple is a <font color=MediumTurquoise> fixed size grouping of elements</font>, such as an (x, y) co-ordinate. Tuples are like lists, except they are immutable and do not change size (<font color=MediumTurquoise> tuples are not strictly immutable since one of the contained elements could be mutable</font>). Tuples play a sort of \"struct\" role in Python -- a convenient way to pass around a little logical, fixed size bundle of values. <font color=MediumTurquoise> A function that needs to return multiple values can just return a tuple of the values.</font>\n",
    "\n",
    "The \"empty\" tuple is just an empty pair of parenthesis. Accessing the elements in a tuple is just like a list -- len(), [ ], for, in, etc. all work the same."
   ]
  },
  {
   "cell_type": "code",
   "execution_count": 18,
   "metadata": {},
   "outputs": [
    {
     "name": "stdout",
     "output_type": "stream",
     "text": [
      "3\n",
      "hi\n",
      "[1, 2, 3, 4]\n",
      "hike\n"
     ]
    }
   ],
   "source": [
    "tuple = (1, 2, 'hi')\n",
    "print(len(tuple))\n",
    "print(tuple[2])\n",
    "# tuple[2] = \"lala\"  # NO, tuples cannot be changed\n",
    "tuple = (1, 2, [1, 2, 3])  # this works\n",
    "li = tuple[2]\n",
    "li += [4]\n",
    "print(tuple[2])  # !在不改变引用的条件下可修改\n",
    "\n",
    "tuple = ('hi',)  # *size-1 tuple\n",
    "\n",
    "(x, y, z) = (42, 13, \"hike\")\n",
    "print (z)  # hike\n"
   ]
  },
  {
   "cell_type": "markdown",
   "metadata": {},
   "source": [
    "### sort"
   ]
  },
  {
   "cell_type": "code",
   "execution_count": 19,
   "metadata": {},
   "outputs": [
    {
     "name": "stdout",
     "output_type": "stream",
     "text": [
      "[('lisi', 'C', 9), ('lisi1', 'A', 9), ('lisi2', 'B', 9), ('zhangsan', 'A', 10), ('wangwu', 'B', 13)]\n"
     ]
    }
   ],
   "source": [
    "import operator\n",
    "students = [(\"zhangsan\",\"A\",10),(\"lisi\",\"C\",9),(\"lisi1\",\"A\",9),(\"lisi2\",\"B\",9),(\"wangwu\",\"B\",13)]\n",
    "students.sort(key=operator.itemgetter(2))\n",
    "print(students)"
   ]
  },
  {
   "cell_type": "markdown",
   "metadata": {},
   "source": [
    "### zip\n",
    "\n",
    "将多个序列（列表、元组、字典、集合、字符串以及 range() 区间构成的列表）“压缩”成一个 zip 对象。所谓“压缩”，其实就是将这些序列中对应位置的元素重新组合，生成一个个新的元组。"
   ]
  },
  {
   "cell_type": "code",
   "execution_count": 20,
   "metadata": {},
   "outputs": [
    {
     "name": "stdout",
     "output_type": "stream",
     "text": [
      "[(11, 21), (12, 22), (13, 23)]\n",
      "[('p', 's'), ('y', 'h'), ('t', 'e'), ('h', 'l'), ('o', 'l')]\n"
     ]
    }
   ],
   "source": [
    "my_list = [11, 12, 13]\n",
    "my_tuple = (21, 22, 23)\n",
    "print([x for x in zip(my_list, my_tuple)])\n",
    "\n",
    "my_pychar = \"python\"\n",
    "my_shechar = \"shell\"\n",
    "print([x for x in zip(my_pychar, my_shechar)])\n"
   ]
  },
  {
   "cell_type": "markdown",
   "metadata": {},
   "source": [
    "## Dict Hash Table\n",
    "\n",
    "### basic  \n",
    "\n",
    "<font color=MediumTurquoise> Strings, numbers, and tuples work as keys, and any type can be a value. </font>Other types may or may not work correctly as keys (strings and tuples work cleanly since they are immutable). Looking up a value which is not in the dict throws a KeyError -- use \"in\" to check if the key is in the dict, or use dict.get(key) which returns the value or None if the key is not present (or get(key, not-found) allows you to specify what value to return in the not-found case)."
   ]
  },
  {
   "cell_type": "code",
   "execution_count": 21,
   "metadata": {},
   "outputs": [
    {
     "name": "stdout",
     "output_type": "stream",
     "text": [
      "{'a': 'alpha', 'g': 'gamma', 'o': 'omega'}\n",
      "alpha\n",
      "True\n",
      "None\n"
     ]
    }
   ],
   "source": [
    "# Can build up a dict by starting with the the empty dict {}\n",
    "# and storing key/value pairs into the dict like this:\n",
    "# dict[key] = value-for-that-key\n",
    "dict = {}\n",
    "dict['a'] = 'alpha'\n",
    "dict['g'] = 'gamma'\n",
    "dict['o'] = 'omega'\n",
    "# 直接初始化\n",
    "# !dict={'a': 'alpha', 'g': 'gamma', 'o': 'omega'}\n",
    "\n",
    "print(dict)  # {'a': 'alpha', 'o': 'omega', 'g': 'gamma'}\n",
    "\n",
    "print(dict['a'])  # Simple lookup, returns 'alpha'\n",
    "dict['a'] = 6  # Put new key/value into dict\n",
    "print('a' in dict)  # True\n",
    "# print dict['z']                  ## Throws KeyError\n",
    "if 'z' in dict:\n",
    "    print(dict['z'])  # Avoid KeyError\n",
    "print(dict.get('z'))  # None (instead of KeyError)"
   ]
  },
  {
   "cell_type": "markdown",
   "metadata": {},
   "source": [
    "### loop"
   ]
  },
  {
   "cell_type": "code",
   "execution_count": 22,
   "metadata": {},
   "outputs": [
    {
     "name": "stdout",
     "output_type": "stream",
     "text": [
      "a g o \n",
      "a g o \n",
      "dict_values(['alpha', 'gamma', 'omega'])\n",
      "a alpha\n",
      "g gamma\n",
      "o omega\n",
      "a -> alpha\n",
      "g -> gamma\n",
      "o -> omega\n"
     ]
    }
   ],
   "source": [
    "dict = {}\n",
    "dict['a'] = 'alpha'\n",
    "dict['g'] = 'gamma'\n",
    "dict['o'] = 'omega'\n",
    "\n",
    "for key in dict:\n",
    "    print(key, end=' ')\n",
    "print()\n",
    "# Exactly the same as above\n",
    "for key in dict.keys():\n",
    "    print(key, end=' ')\n",
    "print()\n",
    "\n",
    "print(dict.values())  # ['alpha', 'omega', 'gamma']\n",
    "\n",
    "# Common case -- loop over the keys in sorted order,\n",
    "# accessing each key/value\n",
    "for key in sorted(dict.keys()):\n",
    "    print(key, dict[key])\n",
    "for k, v in dict.items():\n",
    "    print(k, '->', v)\n"
   ]
  },
  {
   "cell_type": "markdown",
   "metadata": {},
   "source": [
    "### Dict Formatting"
   ]
  },
  {
   "cell_type": "code",
   "execution_count": 23,
   "metadata": {},
   "outputs": [
    {
     "name": "stdout",
     "output_type": "stream",
     "text": [
      "I want 42 copies of garfield\n"
     ]
    }
   ],
   "source": [
    "hash={}\n",
    "hash['word'] = 'garfield'\n",
    "hash['count'] = 42\n",
    "\n",
    "s = 'I want %(count)d copies of %(word)s' % hash  # %d for int, %s for string\n",
    "print(s)\n"
   ]
  },
  {
   "cell_type": "markdown",
   "metadata": {},
   "source": [
    "### del\n",
    "\n",
    "The \"del\" operator does deletions. In the simplest case, it can remove the definition of a variable, as if that variable had not been defined. <font color=MediumTurquoise> Del can also be used on list elements or slices to delete that part of the list and to delete entries from a dictionary.</font>"
   ]
  },
  {
   "cell_type": "markdown",
   "metadata": {},
   "source": [
    "## set\n",
    "\n",
    "### basic \n",
    "\n",
    "Python 提供了 2 种创建 set 集合的方法，分别是使用 {} 创建和使用 set() 函数将列表、元组等类型数据转换为集合。\n",
    "\n",
    "从内容上看，同一集合中，只能存储不可变的数据类型，包括整形、浮点型、字符串、元组，<font color=\"MediumTurquoise\"> 无法存储列表、字典、集合这些可变的数据类型，否则 Python 解释器会抛出 TypeError 错误</font>。\n"
   ]
  },
  {
   "cell_type": "code",
   "execution_count": 24,
   "metadata": {},
   "outputs": [
    {
     "name": "stdout",
     "output_type": "stream",
     "text": [
      "{1, (1, 2, 3), 'c'}\n",
      "1 (1, 2, 3) c \n",
      "set0: set()\n",
      "set1: {'.', 'g', 'n', 'a', 'c', 't', 'h', 'e', 'i', 'b'}\n",
      "set2: {1, 2, 3, 4, 5}\n",
      "set3: {1, 2, 3, 4, 5}\n"
     ]
    }
   ],
   "source": [
    "a = {1, 'c', 1, (1, 2, 3), 'c'}\n",
    "print(a)\n",
    "for ele in a:\n",
    "    print(ele, end=' ')\n",
    "del(a)\n",
    "print()\n",
    "set0 = set()  # 创建空字典\n",
    "set1 = set(\"c.biancheng.net\")\n",
    "set2 = set([1, 2, 3, 4, 5])\n",
    "set3 = set((1, 2, 3, 4, 5))\n",
    "# *由于 Python 中的 set 集合是无序的，所以每次输出时元素的排序顺序可能都不相同。\n",
    "print(\"set0:\", set0)\n",
    "print(\"set1:\", set1)\n",
    "print(\"set2:\", set2)\n",
    "print(\"set3:\", set3)"
   ]
  },
  {
   "cell_type": "code",
   "execution_count": 25,
   "metadata": {},
   "outputs": [
    {
     "name": "stdout",
     "output_type": "stream",
     "text": [
      "{1, 2, 3, 4}\n",
      "{2, 3, 4}\n"
     ]
    }
   ],
   "source": [
    "a={1,2,3} \n",
    "a.add(4)\n",
    "print(a)\n",
    "a.remove(1)\n",
    "print(a)\n",
    "a.discard(1)# *删除时不存在也不会报错"
   ]
  },
  {
   "cell_type": "markdown",
   "metadata": {},
   "source": [
    "### set operation"
   ]
  },
  {
   "cell_type": "code",
   "execution_count": 26,
   "metadata": {},
   "outputs": [
    {
     "name": "stdout",
     "output_type": "stream",
     "text": [
      "{3}\n",
      "{1, 2, 3, 4, 5}\n",
      "{1, 2}\n",
      "{1, 2, 4, 5}\n"
     ]
    }
   ],
   "source": [
    "set1={1,2,3}\n",
    "set2={3,4,5}\n",
    "print(set1 & set2)\n",
    "print(set1 | set2)\n",
    "print(set1-set2)\n",
    "print(set1^set2)# *对称差"
   ]
  },
  {
   "cell_type": "markdown",
   "metadata": {},
   "source": [
    "### set method"
   ]
  },
  {
   "cell_type": "code",
   "execution_count": 27,
   "metadata": {},
   "outputs": [
    {
     "name": "stdout",
     "output_type": "stream",
     "text": [
      "['__and__', '__class__', '__contains__', '__delattr__', '__dir__', '__doc__', '__eq__', '__format__', '__ge__', '__getattribute__', '__gt__', '__hash__', '__iand__', '__init__', '__init_subclass__', '__ior__', '__isub__', '__iter__', '__ixor__', '__le__', '__len__', '__lt__', '__ne__', '__new__', '__or__', '__rand__', '__reduce__', '__reduce_ex__', '__repr__', '__ror__', '__rsub__', '__rxor__', '__setattr__', '__sizeof__', '__str__', '__sub__', '__subclasshook__', '__xor__', 'add', 'clear', 'copy', 'difference', 'difference_update', 'discard', 'intersection', 'intersection_update', 'isdisjoint', 'issubset', 'issuperset', 'pop', 'remove', 'symmetric_difference', 'symmetric_difference_update', 'union', 'update']\n",
      "Help on built-in function pop:\n",
      "\n",
      "pop(...) method of builtins.set instance\n",
      "    Remove and return an arbitrary set element.\n",
      "    Raises KeyError if the set is empty.\n",
      "\n",
      "{2, 3, 4}\n"
     ]
    }
   ],
   "source": [
    "print(dir(set))# 直接dir(list)是竖行\n",
    "set={1,2,3,4}\n",
    "help(set.pop)\n",
    "set.pop()\n",
    "print(set)\n",
    "\n"
   ]
  },
  {
   "cell_type": "markdown",
   "metadata": {},
   "source": [
    "### frozenset\n",
    "\n",
    "frozenset 集合是不可变序列，程序不能改变序列中的元素。set 集合中所有能改变集合本身的方法，比如 remove()、discard()、add() 等，frozenset 都不支持；set 集合中不改变集合本身的方法，fronzenset 都支持。\n",
    "\n",
    "向 set 中添加 frozenset 是没问题的，因为 frozenset 是不可变的"
   ]
  },
  {
   "cell_type": "markdown",
   "metadata": {},
   "source": [
    "## file \n",
    "\n",
    "### basic \n",
    "\n",
    "The code f = open('name', 'r') opens the file into the variable f, ready for reading operations, and use f.close() when finished. Instead of 'r', use 'w' for writing, and 'a' for append. <font color=MediumTurquoise> The special mode 'rU' is the \"Universal\" option for text files where it's smart about converting different line-endings so they always come through as a simple '\\n'.</font> The standard for-loop works for text files, iterating through the lines of the file (this works only for text files, not binary files)"
   ]
  },
  {
   "cell_type": "code",
   "execution_count": 28,
   "metadata": {},
   "outputs": [
    {
     "name": "stdout",
     "output_type": "stream",
     "text": [
      "123\n",
      "\n",
      "456\n",
      "\n"
     ]
    }
   ],
   "source": [
    "# Echo the contents of a file\n",
    "f = open('foo.txt', 'r')# *U  python3.x默认开启\n",
    "for line in f:  # iterates over the lines of the file\n",
    "    print (line),  # trailing , so print does not add an end-of-line char\n",
    "    # since 'line' already includes the end-of-line.\n",
    "f.close()\n"
   ]
  },
  {
   "cell_type": "markdown",
   "metadata": {},
   "source": [
    "The f.readlines() method reads the whole file into memory and returns its contents as a list of its lines. The f.read() method reads the whole file into a single string\n",
    "<font color=MediumTurquoise> 可以通过使用 size 参数，指定 read() 每次可读取的最大字符（或者字节）数,read(size)</font>"
   ]
  },
  {
   "cell_type": "markdown",
   "metadata": {},
   "source": [
    "For writing, f.write(string) method is the easiest way to write data to an open output file. Or you can use \"print\" with an open file, but the syntax is nasty: \"print >> f, string\". In python 3, the print syntax will be fixed to be a regular function call with a file= optional argument: \"print(string, file=f)\"."
   ]
  },
  {
   "cell_type": "code",
   "execution_count": 29,
   "metadata": {},
   "outputs": [
    {
     "name": "stdout",
     "output_type": "stream",
     "text": [
      "UTF-8\n",
      "8\n",
      "['123\\n', '456\\n']\n",
      "123\n",
      "456\n",
      "\n"
     ]
    }
   ],
   "source": [
    "f=open('foo.txt','w+')# *可用encoding参数指定打开方式\n",
    "print(f.encoding)# UTF-8\n",
    "f.write(\"123\\n\")\n",
    "print(456,file=f)\n",
    "f.flush()  # 刷新,不关闭\n",
    "print(f.tell()) #指针位置\n",
    "f.seek(0) #指针回到文件开头\n",
    "# *当 offset（第一个参数） 值非 0 时，Python 要求文件必须要以二进制格式打开，否则会抛出 io.UnsupportedOperation 错误。\n",
    "# *whence：作为可选参数，用于指定文件指针要放置的位置，该参数的参数值有 3 个选择：0 代表文件头（默认值）、1 代表当前位置、2 代表文件尾。\n",
    "print(f.readlines())\n",
    "f.close()\n",
    "\n",
    "#以二进制形式打开指定文件\n",
    "f = open(\"foo.txt\",'rb+')\n",
    "#输出读取到的数据\n",
    "print(f.read().decode('utf-8'))# *直接读取得到的是 bytes\n",
    "\n",
    "f.close()\n"
   ]
  },
  {
   "cell_type": "markdown",
   "metadata": {},
   "source": [
    "## Regular Expressions"
   ]
  },
  {
   "cell_type": "markdown",
   "metadata": {},
   "source": [
    "### basic\n",
    "\n",
    "The Python \"re\" module provides regular expression support."
   ]
  },
  {
   "cell_type": "code",
   "execution_count": 30,
   "metadata": {},
   "outputs": [
    {
     "name": "stdout",
     "output_type": "stream",
     "text": [
      "found word:cat\n",
      "alice-b@google.com\n"
     ]
    }
   ],
   "source": [
    "import re\n",
    "s = 'an example word:cat!!'\n",
    "match = re.search(r'word:\\w\\w\\w', s)\n",
    "# If-statement after search() tests if it succeeded\n",
    "if match:\n",
    "    print('found', match.group())  # 'found word:cat'\n",
    "else:\n",
    "    print('did not find')\n",
    "s = 'purple alice-b@google.com monkey dishwasher'\n",
    "match = re.search(r'[\\w.-]+@[\\w.-]+', s)#  !work inside square brackets too with the one exception that dot (.) just means a literal dot. \n",
    "if match:\n",
    "    print(match.group())  # 'alice-b@google.com'\n"
   ]
  },
  {
   "cell_type": "markdown",
   "metadata": {},
   "source": [
    "#### Group Extraction\n",
    "\n",
    " On a successful search, match.group(1) is the match text corresponding to the 1st left parenthesis, and match.group(2) is the text corresponding to the 2nd left parenthesis. The plain match.group() is still the whole match text as usual."
   ]
  },
  {
   "cell_type": "code",
   "execution_count": 31,
   "metadata": {},
   "outputs": [
    {
     "name": "stdout",
     "output_type": "stream",
     "text": [
      "alice-b@google.com\n",
      "alice-b\n",
      "google.com\n"
     ]
    }
   ],
   "source": [
    "s = 'purple alice-b@google.com monkey dishwasher'\n",
    "match = re.search(r'([\\w.-]+)@([\\w.-]+)', s)\n",
    "if match:\n",
    "    print(match.group())  # 'alice-b@google.com' (the whole match)\n",
    "    print(match.group(1))  # 'alice-b' (the username, group 1)\n",
    "    print(match.group(2))  # 'google.com' (the host, group 2)\n"
   ]
  },
  {
   "cell_type": "markdown",
   "metadata": {},
   "source": [
    "#### findall"
   ]
  },
  {
   "cell_type": "code",
   "execution_count": 32,
   "metadata": {},
   "outputs": [
    {
     "name": "stdout",
     "output_type": "stream",
     "text": [
      "alice@google.com\n",
      "bob@abc.com\n",
      "[('alice', 'google.com'), ('bob', 'abc.com')]\n",
      "alice\n",
      "google.com\n",
      "bob\n",
      "abc.com\n"
     ]
    }
   ],
   "source": [
    "# Suppose we have a text with many email addresses\n",
    "s = 'purple alice@google.com, blah monkey bob@abc.com blah dishwasher'\n",
    "\n",
    "# Here re.findall() returns a list of all the found email strings\n",
    "# ['alice@google.com', 'bob@abc.com']\n",
    "emails = re.findall(r'[\\w\\.-]+@[\\w\\.-]+', s)\n",
    "for email in emails:\n",
    "    # do something with each found email string\n",
    "    print(email)\n",
    "\n",
    "tuples = re.findall(r'([\\w\\.-]+)@([\\w\\.-]+)', s)\n",
    "print(tuples)  # [('alice', 'google.com'), ('bob', 'abc.com')]\n",
    "for tuple in tuples:\n",
    "    print(tuple[0])  # username\n",
    "    print(tuple[1])  # host\n",
    "\n",
    "\n",
    "#   # Open file\n",
    "#   f = open('test.txt', 'r')\n",
    "#!   # Feed the file text into findall(); it returns a list of all the found strings\n",
    "#   strings = re.findall(r'some pattern', f.read())"
   ]
  },
  {
   "cell_type": "markdown",
   "metadata": {},
   "source": [
    "#### Greedy vs. Non-Greedy \n",
    "\n",
    "Suppose you have text with tags in it: \\<b>foo</b> and \\<i>so on</i>\n",
    "\n",
    "Suppose you are trying to match each tag with the pattern '(<.*>)' -- what does it match first?\n",
    "\n",
    "The result is a little surprising, but the greedy aspect of the .* causes it to match the whole '\\<b>foo</b> and \\<i>so on</i>' as one big match. The problem is that the .* goes as far as is it can, instead of stopping at the first > (aka it is \"greedy\").\n",
    "\n",
    "There is an extension to regular expression where you add a ? at the end, such as .\\*? or .+?, changing them to be non-greedy. Now they stop as soon as they can. So the pattern '(<.\\*?>)' will get just '<b>' as the first match, and '</b>' as the second match, and so on getting each <..> pair in turn. The style is typically that you use a .\\*?, and then immediately its right look for some concrete marker (> in this case) that forces the end of the .\\*? run.\n",
    "\n"
   ]
  },
  {
   "cell_type": "markdown",
   "metadata": {},
   "source": [
    "#### Substitution\n",
    "\n",
    "The re.sub(pat, replacement, str) function searches for all the instances of pattern in the given string, and replaces them. The replacement string can include '\\1', '\\2' which refer to the text from group(1), group(2), and so on from the original matching text."
   ]
  },
  {
   "cell_type": "code",
   "execution_count": 33,
   "metadata": {},
   "outputs": [
    {
     "name": "stdout",
     "output_type": "stream",
     "text": [
      "purple alice@yo-yo-dyne.com, blah monkey bob@yo-yo-dyne.com blah dishwasher\n"
     ]
    }
   ],
   "source": [
    "s = 'purple alice@google.com, blah monkey bob@abc.com blah dishwasher'\n",
    "# re.sub(pat, replacement, str) -- returns new string with all replacements,\n",
    "# \\1 is group(1), \\2 group(2) in the replacement\n",
    "print(re.sub(r'([\\w\\.-]+)@([\\w\\.-]+)', r'\\1@yo-yo-dyne.com', s))\n",
    "# purple alice@yo-yo-dyne.com, blah monkey bob@yo-yo-dyne.com blah dishwasher\n"
   ]
  },
  {
   "cell_type": "markdown",
   "metadata": {},
   "source": [
    "## 可变类型与不可变类型\n",
    "\n",
    "Python中的变量分为可变类型和不可变类型 两种。\n",
    "\n",
    "　　可变类型： 数字、字符串、元组、可变集合。\n",
    "\n",
    "　　不可变类型： 列表、字典、不可变集合。\n",
    "\n",
    "　　这里的可变不可变，是指内存中的那块内容（value）是否可以被改变\n",
    "\n",
    " 　　所谓可变类型与不可变类型是指：数据能够直接进行修改，如果能直接修改那么就是可变，否则是不可变。"
   ]
  },
  {
   "cell_type": "code",
   "execution_count": 1,
   "metadata": {},
   "outputs": [
    {
     "name": "stdout",
     "output_type": "stream",
     "text": [
      "1\n",
      "9788992\n",
      "9788992\n",
      "9789024\n",
      "1\n",
      "9788992\n"
     ]
    }
   ],
   "source": [
    "def inc(n):\n",
    "    print(id(n))# !赋值给形参，共享内存\n",
    "    n=n+1 # !在这里形参n的引用改变\n",
    "    print(id(n))\n",
    "b=1\n",
    "print(b)\n",
    "print(id(b))\n",
    "inc(b)\n",
    "print(b)\n",
    "print(id(b))"
   ]
  },
  {
   "cell_type": "code",
   "execution_count": 8,
   "metadata": {},
   "outputs": [
    {
     "name": "stdout",
     "output_type": "stream",
     "text": [
      "9788992\n",
      "9788992\n",
      "9788992\n"
     ]
    }
   ],
   "source": [
    "print(id(1))\n",
    "a=1\n",
    "print(id(a))\n",
    "b=a\n",
    "print(id(b))\n",
    "\n",
    "# 都指向1的地址"
   ]
  },
  {
   "cell_type": "code",
   "execution_count": 2,
   "metadata": {},
   "outputs": [
    {
     "name": "stdout",
     "output_type": "stream",
     "text": [
      "9788992 9789024\n"
     ]
    }
   ],
   "source": [
    "a=1\n",
    "b=a+1\n",
    "print(id(a),id(b))"
   ]
  },
  {
   "cell_type": "markdown",
   "metadata": {},
   "source": [
    " 数字a=1，在修改a+1后得到的b，此时就会创建一个新的内存地址用来保存修改后的对象，所以内存地址不一样。而对于可变类型数据在这一点就不一样"
   ]
  }
 ],
 "metadata": {
  "interpreter": {
   "hash": "df0893f56f349688326838aaeea0de204df53a132722cbd565e54b24a8fec5f6"
  },
  "kernelspec": {
   "display_name": "Python 3.8.10 64-bit",
   "language": "python",
   "name": "python3"
  },
  "language_info": {
   "codemirror_mode": {
    "name": "ipython",
    "version": 3
   },
   "file_extension": ".py",
   "mimetype": "text/x-python",
   "name": "python",
   "nbconvert_exporter": "python",
   "pygments_lexer": "ipython3",
   "version": "3.8.10"
  },
  "orig_nbformat": 4
 },
 "nbformat": 4,
 "nbformat_minor": 2
}
