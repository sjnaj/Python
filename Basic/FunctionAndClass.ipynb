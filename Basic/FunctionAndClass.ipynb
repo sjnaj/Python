{
 "cells": [
  {
   "cell_type": "markdown",
   "metadata": {},
   "source": [
    "# function and class\n",
    "\n",
    "## function \n",
    "\n",
    "### basic \n"
   ]
  },
  {
   "cell_type": "code",
   "execution_count": 2,
   "metadata": {},
   "outputs": [
    {
     "name": "stdout",
     "output_type": "stream",
     "text": [
      "Help on function str_max in module __main__:\n",
      "\n",
      "str_max(str1, str2)\n",
      "    比较 2 个字符串的大小\n",
      "\n",
      "\n",
      "    比较 2 个字符串的大小\n",
      "    \n"
     ]
    }
   ],
   "source": [
    "# 定义一个比较字符串大小的函数\n",
    "def str_max(str1, str2):\n",
    "    '''\n",
    "    比较 2 个字符串的大小\n",
    "    '''\n",
    "    str = str1 if str1 > str2 else str2\n",
    "    return str\n",
    "\n",
    "\n",
    "help(str_max)\n",
    "print(str_max.__doc__)\n"
   ]
  },
  {
   "cell_type": "markdown",
   "metadata": {},
   "source": [
    "### 参数\n",
    "\n",
    "关键字参数是指使用形式参数的名字来确定输入的参数值。通过此方式指定函数实参时，不再需要与形参的位置完全一致，只要将参数名写正确即可。"
   ]
  },
  {
   "cell_type": "code",
   "execution_count": null,
   "metadata": {},
   "outputs": [],
   "source": [
    "def dis_str(str1,str2):\n",
    "    print(\"str1:\",str1)\n",
    "    print(\"str2:\",str2)\n",
    "#位置参数\n",
    "dis_str(\"http://c.biancheng.net/python/\",\"http://c.biancheng.net/shell/\")\n",
    "#关键字参数\n",
    "dis_str(\"http://c.biancheng.net/python/\",str2=\"http://c.biancheng.net/shell/\")\n",
    "dis_str(str2=\"http://c.biancheng.net/python/\",str1=\"http://c.biancheng.net/shell/\")\n",
    "\n",
    "# *位置参数必须放在关键字参数之前，下面代码错误\n",
    "#dis_str(str1=\"http://c.biancheng.net/python/\",\"http://c.biancheng.net/shell/\")"
   ]
  },
  {
   "cell_type": "code",
   "execution_count": 3,
   "metadata": {},
   "outputs": [
    {
     "name": "stdout",
     "output_type": "stream",
     "text": [
      "str1: http://c.biancheng.net/shell/\n",
      "str2: http://c.biancheng.net/python/\n",
      "('http://c.biancheng.net/python/',)\n"
     ]
    }
   ],
   "source": [
    "def dis_str(str1,str2 = \"http://c.biancheng.net/python/\"):\n",
    "    print(\"str1:\",str1)\n",
    "    print(\"str2:\",str2)\n",
    "dis_str(\"http://c.biancheng.net/shell/\")\n",
    "print(dis_str.__defaults__)# *显示默认参数\n"
   ]
  },
  {
   "cell_type": "code",
   "execution_count": 4,
   "metadata": {},
   "outputs": [
    {
     "name": "stdout",
     "output_type": "stream",
     "text": [
      "\n",
      "Making a 16-inch pizza with the following toppings:\n",
      "- pepperoni\n",
      "\n",
      "Making a 12-inch pizza with the following toppings:\n",
      "- mushrooms\n",
      "- green peppers\n",
      "- extra cheese\n",
      "{'first_name': 'albert', 'last_name': 'einstein', 'location': 'princeton', 'field': 'physics'}\n"
     ]
    }
   ],
   "source": [
    "def make_pizza(size, *toppings):# *接收任意数量的非关键字实参\n",
    "    \"\"\"概述要制作的披萨\"\"\"\n",
    "    print(\"\\nMaking a \" + str(size) + \"-inch pizza with the following toppings:\")\n",
    "    for topping in toppings:\n",
    "        print(\"- \" + topping)\n",
    "make_pizza(16, 'pepperoni')\n",
    "make_pizza(12, 'mushrooms', 'green peppers', 'extra cheese')\n",
    "\n",
    "def build_profile(first, last, **user_info): # *接收任意数量的关键字实参\n",
    "                                            # *形参 **user_info 表示创建一个名为 user_info 的空字典，并将接受到的所有键值对都存储到这个字典中。\n",
    "    profile = {}\n",
    "    profile['first_name'] = first\n",
    "    profile['last_name'] = last\n",
    "    for key, value in user_info.items():\n",
    "        profile[key] = value\n",
    "    return profile\n",
    "user_profile = build_profile('albert', 'einstein', location='princeton', field='physics')\n",
    "print(user_profile)\n",
    "\n"
   ]
  },
  {
   "cell_type": "markdown",
   "metadata": {},
   "source": [
    "逆向参数收集，指的是在程序己有列表、元组、字典等对象的前提下，把它们的元素“拆开”后传给函数的参数。<font color='MediumTurquoise'> 逆向参数收集需要在传入的列表、元组参数之前添加一个星号，在字典参数之前添加两个星号。</font>"
   ]
  },
  {
   "cell_type": "code",
   "execution_count": 5,
   "metadata": {},
   "outputs": [
    {
     "name": "stdout",
     "output_type": "stream",
     "text": [
      "用户是:  小明\n",
      "欢迎消息:  欢迎来<a href=\"http://www.pxcodes.com\" target=\"_blank\" class=\"infotextkey\">少儿编程</a>网\n"
     ]
    }
   ],
   "source": [
    "\n",
    "def test(name, message):\n",
    " \n",
    "    print(\"用户是: \", name)\n",
    " \n",
    "    print(\"欢迎消息: \", message)\n",
    " \n",
    "my_list = ['小明', '欢迎来<a href=\"http://www.pxcodes.com\" target=\"_blank\" class=\"infotextkey\">少儿编程</a>网']\n",
    " \n",
    "test(*my_list)"
   ]
  },
  {
   "cell_type": "code",
   "execution_count": 6,
   "metadata": {},
   "outputs": [
    {
     "name": "stdout",
     "output_type": "stream",
     "text": [
      "少儿编程网 VIP价格是: 159\n",
      "描述信息 这是一个精美而实用的网站\n"
     ]
    }
   ],
   "source": [
    "\n",
    "def bar(book, price, desc):\n",
    " \n",
    "    print(book, \"VIP价格是:\", price)\n",
    " \n",
    "    print('描述信息', desc)\n",
    " \n",
    "my_dict = {'price': 159, 'book': '少儿编程网', 'desc': '这是一个精美而实用的网站'}\n",
    " \n",
    "# 按逆向收集的方式将my_dict的多个key-value传给bar()函数\n",
    " \n",
    "bar(**my_dict)"
   ]
  },
  {
   "cell_type": "markdown",
   "metadata": {},
   "source": [
    "使用对象，列表，元组，词典可以返回多个值"
   ]
  },
  {
   "cell_type": "markdown",
   "metadata": {},
   "source": [
    "### partial偏函数\n",
    "\n",
    "偏函数名 = partial(func, *args, **kwargs)\n",
    "\n",
    "其中，func 指的是要封装的原函数，*args 和 **kwargs 分别用于接收无关键字实参和关键字实参。"
   ]
  },
  {
   "cell_type": "code",
   "execution_count": 7,
   "metadata": {},
   "outputs": [
    {
     "name": "stdout",
     "output_type": "stream",
     "text": [
      "name: Gary age: 13\n"
     ]
    }
   ],
   "source": [
    "from functools import partial\n",
    "#定义个原函数\n",
    "def display(name,age):\n",
    "    print(\"name:\",name,\"age:\",age)\n",
    "#定义偏函数，其封装了 display() 函数，并为 name 参数设置了默认参数\n",
    "GaryFun = partial(display,name = 'Gary')\n",
    "#由于 name 参数已经有默认值，因此调用偏函数时，可以不指定\n",
    "GaryFun(age = 13)"
   ]
  },
  {
   "cell_type": "markdown",
   "metadata": {},
   "source": [
    "### 闭包\n",
    "\n",
    "闭包比普通的函数多了一个 \\_\\_closure__ 属性，该属性记录着自由变量的地址。当闭包被调用时，系统就会根据该地址找到对应的自由变量，完成整体的函数调用。"
   ]
  },
  {
   "cell_type": "code",
   "execution_count": 17,
   "metadata": {},
   "outputs": [
    {
     "name": "stdout",
     "output_type": "stream",
     "text": [
      "1\n",
      "2\n",
      "(<cell at 0x7faf685cc8e0: int object at 0x955e60>,)\n"
     ]
    }
   ],
   "source": [
    "def count_init(start):\n",
    "    def return_count():\n",
    "        nonlocal start\n",
    "        start+=1\n",
    "        return start\n",
    "    return return_count\n",
    "count=count_init(0)\n",
    "print(count())\n",
    "print(count())\n",
    "\n",
    "print(count.__closure__) # __closure__ 属性的类型是一个元组，这表明闭包可以支持多个自由变量的形式。\n",
    "\n"
   ]
  },
  {
   "cell_type": "markdown",
   "metadata": {},
   "source": [
    "### lambda表达式\n"
   ]
  },
  {
   "cell_type": "code",
   "execution_count": 18,
   "metadata": {},
   "outputs": [
    {
     "name": "stdout",
     "output_type": "stream",
     "text": [
      "[(2, 0), (1, 2), (3, 2), (1, 4)]\n"
     ]
    }
   ],
   "source": [
    "print(sorted([(1,2),(3,2),(1,4),(2,0)],key=lambda tuple: tuple[1]))"
   ]
  },
  {
   "cell_type": "markdown",
   "metadata": {},
   "source": [
    "### eval()和exec()\n",
    "\n",
    "eval() 函数的语法格式为：\n",
    "eval(expression, globals=None, locals=None, /)\n",
    "\n",
    "\n",
    "而 exec() 函数的语法格式如下：\n",
    "exec(expression, globals=None, locals=None, /)\n",
    "\n",
    "二者的语法格式除了函数名，其他都相同，其中各个参数的具体含义如下：\n",
    "- expression：这个参数是一个字符串，代表要执行的语句 。<font color=\"MediumTurquoise\"> 该语句受后面两个字典类型参数 globals 和 locals 的限制，只有在 globals 字典和 locals 字典作用域内的函数和变量才能被执行。</font>\n",
    "- globals：这个参数管控的是一个全局的命名空间，即 expression 可以使用全局命名空间中的函数。如果只是提供了 globals 参数，而没有提供自定义的 \\_\\_builtins__，则系统会将当前环境中的 \\_\\_builtins__ 复制到自己提供的 globals 中，然后才会进行计算；<font color=\"MediumTurquoise\"> 如果连 globals 这个参数都没有被提供，则使用 Python 的全局命名空间.</font>\n",
    "  - __builtins__ 是 Python 的内建模块，平时使用的 int、str、abs 都在这个模块中。通过 print(dic[\"__builtins__\"]) 语句可以查看 __builtins__ 所对应的 value。\n",
    "- locals：这个参数管控的是一个局部的命名空间，和 globals 类似，当它和 globals 中有重复或冲突时，以 locals 的为准。如果 locals 没有被提供，则默认为 globals。"
   ]
  },
  {
   "cell_type": "code",
   "execution_count": 19,
   "metadata": {},
   "outputs": [
    {
     "name": "stdout",
     "output_type": "stream",
     "text": [
      "dict_keys(['b'])\n",
      "dict_keys(['b', '__builtins__', 'a'])\n"
     ]
    }
   ],
   "source": [
    "dic={} #定义一个字典\n",
    "dic['b'] = 3 #在 dic 中加一条元素，key 为 b\n",
    "print (dic.keys()) #先将 dic 的 key 打印出来，有一个元素 b\n",
    "exec(\"a = 4\", dic) #在 exec 执行的语句后面跟一个作用域 dic\n",
    "print(dic.keys()) #exec 后，dic 的 key 多了两个"
   ]
  },
  {
   "cell_type": "code",
   "execution_count": 20,
   "metadata": {},
   "outputs": [
    {
     "name": "stdout",
     "output_type": "stream",
     "text": [
      "116\n"
     ]
    }
   ],
   "source": [
    "a=10\n",
    "b=20\n",
    "c=30\n",
    "g={'a':6, 'b':8} #定义一个字典\n",
    "t={'b':100, 'c':10} #定义一个字典\n",
    "print(eval('a+b+c', g, t)) #定义一个字典 116"
   ]
  },
  {
   "cell_type": "code",
   "execution_count": 21,
   "metadata": {},
   "outputs": [
    {
     "name": "stdout",
     "output_type": "stream",
     "text": [
      "2\n",
      "None\n",
      "5\n"
     ]
    }
   ],
   "source": [
    "a = 1\n",
    "exec(\"a = 2\")  # 相当于直接执行 a=2\n",
    "print(a)\n",
    "a = exec(\"2+3\")  # 相当于直接执行 2+3，但是并没有返回值，a 应为 None\n",
    "print(a)\n",
    "a = eval('2+3')  # 执行 2+3，并把结果返回给 a\n",
    "print(a)\n"
   ]
  },
  {
   "cell_type": "code",
   "execution_count": 25,
   "metadata": {},
   "outputs": [
    {
     "name": "stdout",
     "output_type": "stream",
     "text": [
      "hello\n",
      "hello\n",
      "hello\n",
      "'hello'\n",
      "hello\n"
     ]
    }
   ],
   "source": [
    "# s=\"hello\"\n",
    "# print(eval(s))\n",
    "# *出错的地方在于，字符串的内容是 hello，而 hello 并不是可执行的代码（除非定义了一个变量叫作 hello）。\n",
    "\n",
    "s=\"hello\"\n",
    "print(eval('s'))\n",
    "\n",
    "# 也可以写成这样：\n",
    "s='\"hello\"' #s 是个字符串，字符串的内容是带引号的 hello\n",
    "print(eval(s))\n",
    "\n",
    "# 直接使用 repr() 函数来进行转化，也可以得到同样的效果\n",
    "s=\"hello\"\n",
    "print(eval(repr(s))) #使用函数 repr() 进行转化\n",
    "\n",
    "s=\"hello\"\n",
    "print(repr(s))\n",
    "print(str(s))\n",
    "\n",
    "# *使用 repr() 返回的内容，输出后会在两边多一个单引号。\n",
    "# 在编写代码时，一般会使 repr() 数来生成动态的字符串，再传入到 eval() 或 exec() 函数内，实现动态执行代码的功能。\n",
    "\n"
   ]
  },
  {
   "cell_type": "markdown",
   "metadata": {},
   "source": [
    "### 函数式编程\n",
    "\n",
    "所谓函数式编程，是指代码中每一块都是不可变的，都由纯函数的形式组成。这里的纯函数，是指函数本身相互独立、互不影响，对于相同的输入，总会有相同的输出。\n",
    "\n",
    "注意，纯粹的函数式编程语言（比如 Scala），其编写的函数中是没有变量的，因此可以保证，只要输入是确定的，输出就是确定的；而允许使用变量的程序设计语言，由于函数内部的变量状态不确定，同样的输入，可能得到不同的输出。\n",
    "\n",
    "Python 允许使用变量，所以它并不是一门纯函数式编程语言。Python 仅对函数式编程提供了部分支持，主要包括 map()、filter() 和 reduce() 这 3 个函数，它们通常都结合 lambda 匿名函数一起使用。接下来就对这 3 个函数的用法做逐一介绍。\n",
    "\n",
    "返回不同类型可迭代对象，需要强制转换为list才能直接输出"
   ]
  },
  {
   "cell_type": "code",
   "execution_count": 27,
   "metadata": {},
   "outputs": [
    {
     "name": "stdout",
     "output_type": "stream",
     "text": [
      "[2, 4, 6, 8, 10]\n",
      "[4, 6, 8, 10, 12]\n"
     ]
    }
   ],
   "source": [
    "listDemo = [1, 2, 3, 4, 5]\n",
    "new_list = map(lambda x: x * 2, listDemo)\n",
    "print(list(new_list))\n",
    "\n",
    "listDemo1 = [1, 2, 3, 4, 5]\n",
    "listDemo2 = [3, 4, 5, 6, 7]\n",
    "new_list = map(lambda x,y: x + y, listDemo1,listDemo2)\n",
    "print(list(new_list))"
   ]
  },
  {
   "cell_type": "code",
   "execution_count": 38,
   "metadata": {},
   "outputs": [
    {
     "name": "stdout",
     "output_type": "stream",
     "text": [
      "[2, 4]\n",
      "[]\n",
      "[0, 1, 2, 3, 4, 5, 6, 7, 8, 9]\n"
     ]
    }
   ],
   "source": [
    "listDemo = [1, 2, 3, 4, 5]\n",
    "new_list = filter(lambda x: x % 2 == 0, listDemo)\n",
    "print(list(new_list))"
   ]
  },
  {
   "cell_type": "code",
   "execution_count": 2,
   "metadata": {},
   "outputs": [
    {
     "name": "stdout",
     "output_type": "stream",
     "text": [
      "120\n"
     ]
    }
   ],
   "source": [
    "import functools # *需要导入模块\n",
    "listDemo = [1, 2, 3, 4, 5]\n",
    "product = functools.reduce(lambda x, y: x * y, listDemo)\n",
    "print(product)"
   ]
  },
  {
   "cell_type": "markdown",
   "metadata": {},
   "source": [
    "## class"
   ]
  },
  {
   "cell_type": "markdown",
   "metadata": {},
   "source": [
    "### 属性\n",
    "\n",
    "可以动态地为类和对象添加属性\n",
    "\n",
    "#### 类属性\n",
    "\n",
    "类属性指的是在类中，但在各个类方法外定义的属性\n",
    "\n",
    "类属性的特点是，所有类的实例化对象都同时共享类属性，也就是说，类属性在所有实例化对象中是作为公用资源存在的。类方法的调用方式有 2 种，既可以使用类名直接调用，也可以使用类的实例化对象调用。\n",
    "\n",
    "因为类属性为所有实例化对象共有，通过类名修改类属性的值，会影响所有的实例化对象，反之不然\n",
    "\n",
    "#### 实例属性\n",
    "\n",
    "实例属性指的是在任意类方法内部，以<font color=\"MediumTurquoise\"> “self.属性名”</font>的方式定义的属性，其特点是只作用于调用方法的对象。另外，实例属性只能通过对象名访问，无法通过类名访问。\n",
    "\n",
    "主要通过__init__()方法定义，也可以通过其它自定义方法\n",
    "\n",
    "### 方法\n",
    "\n",
    "#### 类方法\n",
    "\n"
   ]
  },
  {
   "cell_type": "code",
   "execution_count": 1,
   "metadata": {},
   "outputs": [
    {
     "name": "stdout",
     "output_type": "stream",
     "text": [
      "正在调用类方法 <class '__main__.CLanguage'>\n",
      "正在调用类方法 <class '__main__.CLanguage'>\n"
     ]
    }
   ],
   "source": [
    "class CLanguage:\n",
    "    #类构造方法，也属于实例方法\n",
    "    def __init__(self):\n",
    "        self.name = \"C语言中文网\"\n",
    "        self.add = \"http://c.biancheng.net\"\n",
    "    #下面定义了一个类方法\n",
    "    @classmethod\n",
    "    def info(cls):\n",
    "        print(\"正在调用类方法\",cls)\n",
    "        \n",
    "#使用类名直接调用类方法\n",
    "CLanguage.info()\n",
    "#使用类对象调用类方法\n",
    "clang = CLanguage()\n",
    "clang.info()"
   ]
  },
  {
   "cell_type": "markdown",
   "metadata": {},
   "source": [
    "#### 实例方法\n",
    "\n",
    "```python\n",
    "clang = CLanguage()\n",
    "clang.say()\n",
    "\n",
    "Clanguage.say(clang)# *也支持使用类名调用实例方法，但此方式需要手动给 self 参数传值\n",
    "```"
   ]
  },
  {
   "cell_type": "markdown",
   "metadata": {},
   "source": [
    "#### 静态方法\n",
    "\n",
    "```python\n",
    "class CLanguage:\n",
    "    @staticmethod\n",
    "    def info(name,add):\n",
    "        print(name,add)\n",
    "```\n",
    "静态方法的调用，既可以使用类名，也可以使用类对象\n",
    "\n",
    "### property\n",
    "\n",
    "property() 函数的基本使用格式如下：\n",
    "属性名=property(fget=None, fset=None, fdel=None, doc=None)\n",
    "\n",
    "其中，fget 参数用于指定获取该属性值的类方法，fset 参数用于指定设置该属性值的方法，fdel 参数用于指定删除该属性值的方法，最后的 doc 是一个文档字符串，用于说明此函数的作用。\n"
   ]
  },
  {
   "cell_type": "code",
   "execution_count": 2,
   "metadata": {},
   "outputs": [
    {
     "name": "stdout",
     "output_type": "stream",
     "text": [
      "Help on property:\n",
      "\n",
      "    指明出处\n",
      "\n",
      "C语言中文网\n",
      "Python教程\n",
      "xxx\n"
     ]
    }
   ],
   "source": [
    "class CLanguage:\n",
    "    #构造函数\n",
    "    def __init__(self,n):\n",
    "        self.__name = n\n",
    "    #设置 name 属性值的函数\n",
    "    def setname(self,n):\n",
    "        self.__name = n\n",
    "    #访问nema属性值的函数\n",
    "    def getname(self):\n",
    "        return self.__name\n",
    "    #删除name属性值的函数\n",
    "    def delname(self):\n",
    "        self.__name=\"xxx\"\n",
    "    #为name 属性配置 property() 函数\n",
    "    name = property(getname, setname, delname, '指明出处')\n",
    "#调取说明文档的 2 种方式\n",
    "#print(CLanguage.name.__doc__)\n",
    "help(CLanguage.name)\n",
    "clang = CLanguage(\"C语言中文网\")\n",
    "#调用 getname() 方法\n",
    "print(clang.name)\n",
    "#调用 setname() 方法\n",
    "clang.name=\"Python教程\"\n",
    "print(clang.name)\n",
    "#调用 delname() 方法\n",
    "del clang.name\n",
    "print(clang.name)"
   ]
  },
  {
   "cell_type": "markdown",
   "metadata": {},
   "source": [
    "<font color=\"MediumTurquoise\">  通过 @property 装饰器，可以直接通过方法名来访问方法，不需要在方法名后添加一对“（）”小括号。</font>\n",
    "\n",
    "```python\n",
    " @property\n",
    "    def radius(self) -> float:\n",
    "        return self.__radius\n",
    "\n",
    "    @radius.setter\n",
    "    def radius(self, radius) -> None:\n",
    "        if radius >= 0:\n",
    "            self.__radius = radius\n",
    "        else:\n",
    "            raise ValueError(\"radius must be positive\")\n",
    "\n",
    "    @radius.deleter\n",
    "    def radius(self) -> None:\n",
    "        self.__radius = 0\n",
    "\n",
    "```"
   ]
  },
  {
   "cell_type": "markdown",
   "metadata": {},
   "source": [
    "### 封装\n",
    "\n",
    "Python 并没有提供 public、private 这些修饰符。为了实现类的封装，Python 采取了下面的方法：\n",
    "默认情况下，Python 类中的变量和方法都是公有（public）的，它们的名称前都没有下划线（_）；\n",
    "如果类中的变量和函数，其名称以双下划线“__”开头，则该变量（函数）为私有变量（私有函数），其属性等同于 private。\n",
    "\n",
    "除此之外，<font color=\"MediumTurquoise\"> 还可以定义以单下划线“_”开头的类属性或者类方法（例如 _name、_display(self)），这种类属性和类方法通常被视为私有属性和私有方法</font>，虽然它们也能通过类对象正常访问，但这是一种约定俗称的用法\n",
    "\n",
    "注意，Python 类中还有以双下划线开头和结尾的类方法（例如类的构造函数__init__(self)），这些都是 Python 内部定义的，用于 Python 内部调用。我们自己定义类属性或者类方法时，<font color=\"MediumTurquoise\">不要使用这种格式。</font>\n",
    "\n",
    "事实上，Python 封装特性的实现纯属“投机取巧”，之所以类对象无法直接调用以双下划线开头命名的类属性和类方法，是因为其底层实现时，Python 偷偷改变了它们的名称。\n",
    "\n",
    "<font color=\"MediumTurquoise\">底层的名称改成了“_类名__属性名”的这种格式</font>"
   ]
  },
  {
   "cell_type": "markdown",
   "metadata": {},
   "source": [
    "### super"
   ]
  },
  {
   "cell_type": "markdown",
   "metadata": {},
   "source": [
    "子类调用父类的方法的三种方式：\n",
    "\n",
    "- 01、父类名.方法名(self,...)\n",
    "\n",
    "- 02、super(子类名，self).父类方法名(...)\n",
    "\n",
    "- 03、super().父类方法名(...) <font color=\"MediumTurquoise\">python3,最简便</font>"
   ]
  },
  {
   "cell_type": "markdown",
   "metadata": {},
   "source": [
    "### type()函数：动态创建类"
   ]
  },
  {
   "cell_type": "markdown",
   "metadata": {},
   "source": [
    "\n",
    "type() 函数的语法格式有 2 种，分别如下：\n",
    "type(obj) \n",
    "type(name, bases, dict)\n",
    "\n",
    "以上这 2 种语法格式，各参数的含义及功能分别是：\n",
    "- 第一种语法格式用来查看某个变量（类对象）的具体类型，obj 表示某个变量或者类对象。\n",
    "- 第二种语法格式用来创建类，其中 name 表示类的名称；bases 表示一个元组，其中存储的是该类的父类；dict 表示一个字典，用于表示类内定义的属性或者方法。\n"
   ]
  },
  {
   "cell_type": "code",
   "execution_count": 3,
   "metadata": {},
   "outputs": [
    {
     "name": "stdout",
     "output_type": "stream",
     "text": [
      "我要学 Python！\n",
      "C语言中文网\n"
     ]
    }
   ],
   "source": [
    "#定义一个实例方法\n",
    "def say(self):\n",
    "    print(\"我要学 Python！\")\n",
    "#使用 type() 函数创建类\n",
    "CLanguage = type(\"CLanguage\",(object,),dict(say = say, name = \"C语言中文网\"))\n",
    "#创建一个 CLanguage 实例对象\n",
    "clangs = CLanguage()\n",
    "#调用 say() 方法和 name 属性\n",
    "clangs.say()\n",
    "print(clangs.name)"
   ]
  },
  {
   "cell_type": "markdown",
   "metadata": {},
   "source": [
    "### Python类特殊成员（属性和方法）\n",
    "\n",
    "Python 类中，凡是以双下划线 \"__\" 开头和结尾命名的成员（属性和方法），都被称为类的特殊成员（特殊属性和特殊方法）\n",
    "\n",
    "Python 类中的特殊成员，其特殊性类似 C++ 类的 private 私有成员，即不能在类的外部直接调用，但允许借助类中的普通方法调用甚至修改它们。如果需要，还可以对类的特殊方法进行重写，从而实现一些特殊的功能。\n",
    "\n",
    "#### \\_\\_new__()\n",
    "\n",
    "\\_\\_new__() 是一种负责创建类实例的静态方法，它无需使用 staticmethod 装饰器修饰，且该方法会优先 \\_\\_init__() 初始化方法被调用。\n",
    "\n",
    "- new 通常用于控制生成一个新实例的过程。它是类级别的方法。\n",
    "- new至少要有一个参数cls，代表要实例化的类，此参数在实例化时由Python解释器自动提供\n",
    "- new必须要有返回值，返回实例化出来的实例，这点在自己实现new时要特别注意，可以return父类new出来的实例，或者直接是object的new出来的实例\n",
    "\n",
    "\n",
    "#### 修改内置类创建行为"
   ]
  },
  {
   "cell_type": "code",
   "execution_count": 8,
   "metadata": {},
   "outputs": [
    {
     "ename": "TypeError",
     "evalue": "object.__init__() takes exactly one argument (the instance to initialize)",
     "output_type": "error",
     "traceback": [
      "\u001b[0;31m---------------------------------------------------------------------------\u001b[0m",
      "\u001b[0;31mTypeError\u001b[0m                                 Traceback (most recent call last)",
      "Input \u001b[0;32mIn [8]\u001b[0m, in \u001b[0;36m<cell line: 5>\u001b[0;34m()\u001b[0m\n\u001b[1;32m      2\u001b[0m     \u001b[38;5;28;01mdef\u001b[39;00m \u001b[38;5;21m__init__\u001b[39m(\u001b[38;5;28mself\u001b[39m, value):\n\u001b[1;32m      3\u001b[0m         \u001b[38;5;28msuper\u001b[39m()\u001b[38;5;241m.\u001b[39m\u001b[38;5;21m__init__\u001b[39m(value)\n\u001b[0;32m----> 5\u001b[0m i \u001b[38;5;241m=\u001b[39m \u001b[43mPositiveInteger\u001b[49m\u001b[43m(\u001b[49m\u001b[38;5;241;43m-\u001b[39;49m\u001b[38;5;241;43m3\u001b[39;49m\u001b[43m)\u001b[49m\n\u001b[1;32m      6\u001b[0m \u001b[38;5;28mprint\u001b[39m (i)\n",
      "Input \u001b[0;32mIn [8]\u001b[0m, in \u001b[0;36mPositiveInteger.__init__\u001b[0;34m(self, value)\u001b[0m\n\u001b[1;32m      2\u001b[0m \u001b[38;5;28;01mdef\u001b[39;00m \u001b[38;5;21m__init__\u001b[39m(\u001b[38;5;28mself\u001b[39m, value):\n\u001b[0;32m----> 3\u001b[0m     \u001b[38;5;28;43msuper\u001b[39;49m\u001b[43m(\u001b[49m\u001b[43m)\u001b[49m\u001b[38;5;241;43m.\u001b[39;49m\u001b[38;5;21;43m__init__\u001b[39;49m\u001b[43m(\u001b[49m\u001b[43mvalue\u001b[49m\u001b[43m)\u001b[49m\n",
      "\u001b[0;31mTypeError\u001b[0m: object.__init__() takes exactly one argument (the instance to initialize)"
     ]
    }
   ],
   "source": [
    "class PositiveInteger(int):\n",
    "    def __init__(self, value):\n",
    "        super().__init__(value)\n",
    "\n",
    "i = PositiveInteger(-3)\n",
    "print (i)\n",
    "\n",
    "# TypeError: object.__init__() takes exactly one argument (the instance to initialize)\n",
    "# !因为int的__init__函数只有'无参'构造方式，只接收‘the instance to initialize’"
   ]
  },
  {
   "cell_type": "code",
   "execution_count": 10,
   "metadata": {},
   "outputs": [
    {
     "name": "stdout",
     "output_type": "stream",
     "text": [
      "3\n"
     ]
    }
   ],
   "source": [
    "class PositiveInteger(int):\n",
    "    def __new__(cls, value):\n",
    "        return super().__new__(cls, value) if value>=0 else super().__new__(cls, abs(value))\n",
    "\n",
    "print(PositiveInteger(-3))"
   ]
  },
  {
   "cell_type": "markdown",
   "metadata": {},
   "source": [
    "\n",
    "\\_\\_new__() 通常会返回该类的一个实例，但有时也可能会返回其他类的实例，如果发生了这种情况，则会跳过对 \\_\\_init__() 方法的调用。"
   ]
  },
  {
   "cell_type": "code",
   "execution_count": 11,
   "metadata": {},
   "outputs": [
    {
     "name": "stdout",
     "output_type": "stream",
     "text": [
      "__init__()\n",
      "<class '__main__.nonZero'>\n",
      "<class 'NoneType'>\n"
     ]
    }
   ],
   "source": [
    "class nonZero(int):\n",
    "    def __new__(cls, value):\n",
    "        return super().__new__(cls, value) if value != 0 else None\n",
    "\n",
    "    def __init__(self, skipped_value):\n",
    "        print(\"__init__()\")\n",
    "        super().__init__()\n",
    "\n",
    "\n",
    "print(type(nonZero(-12)))\n",
    "print(type(nonZero(0))) # 跳过了init\n"
   ]
  },
  {
   "cell_type": "markdown",
   "metadata": {},
   "source": [
    "#### MetaClass元类\n",
    "\n",
    "和普通类的用法不同，它可以对类内部的定义（包括类属性和类方法）进行动态的修改"
   ]
  },
  {
   "cell_type": "code",
   "execution_count": 13,
   "metadata": {},
   "outputs": [
    {
     "name": "stdout",
     "output_type": "stream",
     "text": [
      "[10, 20]\n"
     ]
    }
   ],
   "source": [
    "class ListMeta(type):\n",
    "    def __new__(cls, name, bases, attrs):\n",
    "        # 在类属性当中添加了add函数\n",
    "        # 通过匿名函数映射到append函数上\n",
    "        attrs['add'] = lambda self, value: self.append(value)\n",
    "        return super().__new__(cls, name, bases, attrs)# *参数同同样用来动态创建类的type\n",
    "    \n",
    "    \n",
    "class MyList(list, metaclass=ListMeta):\n",
    "    pass\n",
    "li=MyList()\n",
    "li.add(10)\n",
    "li.add(20)\n",
    "print(li)"
   ]
  },
  {
   "cell_type": "markdown",
   "metadata": {},
   "source": [
    "#### \\_\\_slots__：限制类实例动态添加属性和方法\n",
    "\n",
    "<font color=\"MediumTurquoise\"> 只影响本类</font>"
   ]
  },
  {
   "cell_type": "code",
   "execution_count": 16,
   "metadata": {},
   "outputs": [
    {
     "name": "stdout",
     "output_type": "stream",
     "text": [
      "正在调用实例方法 lala\n"
     ]
    },
    {
     "ename": "AttributeError",
     "evalue": "'CLanguage' object has no attribute 'say'",
     "output_type": "error",
     "traceback": [
      "\u001b[0;31m---------------------------------------------------------------------------\u001b[0m",
      "\u001b[0;31mAttributeError\u001b[0m                            Traceback (most recent call last)",
      "Input \u001b[0;32mIn [16]\u001b[0m, in \u001b[0;36m<cell line: 13>\u001b[0;34m()\u001b[0m\n\u001b[1;32m     10\u001b[0m clang\u001b[38;5;241m.\u001b[39minfo \u001b[38;5;241m=\u001b[39m info\n\u001b[1;32m     11\u001b[0m clang\u001b[38;5;241m.\u001b[39minfo(clang,\u001b[38;5;124m\"\u001b[39m\u001b[38;5;124mPython教程\u001b[39m\u001b[38;5;124m\"\u001b[39m)\n\u001b[0;32m---> 13\u001b[0m clang\u001b[38;5;241m.\u001b[39msay\u001b[38;5;241m=\u001b[39minfo\n\u001b[1;32m     14\u001b[0m clang\u001b[38;5;241m.\u001b[39msay(clang,\u001b[38;5;124m\"\u001b[39m\u001b[38;5;124mPython教程\u001b[39m\u001b[38;5;124m\"\u001b[39m)\n",
      "\u001b[0;31mAttributeError\u001b[0m: 'CLanguage' object has no attribute 'say'"
     ]
    }
   ],
   "source": [
    "class CLanguage:\n",
    "    __slots__ = ('name', 'add', 'info')\n",
    "\n",
    "    \n",
    "def info(self, name):\n",
    "        print(\"正在调用实例方法\", self.name)\n",
    "\n",
    "clang=CLanguage()\n",
    "clang.name=\"lala\"\n",
    "clang.info = info\n",
    "clang.info(clang,\"Python教程\")\n",
    "\n",
    "clang.say=info # *超出__slots__限制,AttributeError\n",
    "clang.say(clang,\"Python教程\") \n"
   ]
  },
  {
   "cell_type": "markdown",
   "metadata": {},
   "source": [
    "#### \\_\\_dir__and\\_\\_dict__\n",
    "\n",
    "用类名直接调用 \\_\\_dict__，会输出该由类中所有类属性组成的字典；而使用类的实例对象调用 \\_\\_dict__，会输出由类中所有实例属性组成的字典。\n",
    "\n",
    "子类也有自己的 \\_\\_dict__，它不会包含父类的 \\_\\_dict__。\n",
    "\n",
    "借助由类实例对象调用 \\_\\_dict__ 属性获取的字典，可以使用字典的方式对其中实例属性的值进行修改"
   ]
  },
  {
   "cell_type": "code",
   "execution_count": 2,
   "metadata": {},
   "outputs": [
    {
     "name": "stdout",
     "output_type": "stream",
     "text": [
      "{'__module__': '__main__', 'a': 1, 'b': 2, '__init__': <function CLanguage.__init__ at 0x7fccb818e0d0>, '__dict__': <attribute '__dict__' of 'CLanguage' objects>, '__weakref__': <attribute '__weakref__' of 'CLanguage' objects>, '__doc__': None}\n",
      "{'name': 'C语言中文网', 'add': 'http://c.biancheng.net'}\n",
      "Python教程\n"
     ]
    }
   ],
   "source": [
    "class CLanguage:\n",
    "    a = 1\n",
    "    b = 2\n",
    "    def __init__ (self):\n",
    "        self.name = \"C语言中文网\"\n",
    "        self.add = \"http://c.biancheng.net\"\n",
    "#通过类名调用__dict__\n",
    "print(CLanguage.__dict__)\n",
    "#通过类实例对象调用 __dict__\n",
    "clangs = CLanguage()\n",
    "print(clangs.__dict__)\n",
    "\n",
    "clangs.__dict__['name'] = \"Python教程\"\n",
    "\n",
    "print(clangs.name)"
   ]
  },
  {
   "cell_type": "markdown",
   "metadata": {},
   "source": [
    "#### setattr()、getattr()、hasattr()函数"
   ]
  },
  {
   "cell_type": "code",
   "execution_count": 8,
   "metadata": {},
   "outputs": [
    {
     "name": "stdout",
     "output_type": "stream",
     "text": [
      "True\n",
      "True\n",
      "True\n",
      "C语言中文网\n",
      "http://c.biancheng.net\n",
      "<bound method CLanguage.say of <__main__.CLanguage object at 0x7fccb8240eb0>>\n",
      "nodisplay\n",
      "Python教程\n",
      "http://c.biancheng.net/python\n"
     ]
    }
   ],
   "source": [
    "class CLanguage:\n",
    "    def __init__ (self):\n",
    "        self.name = \"C语言中文网\"\n",
    "        self.add = \"http://c.biancheng.net\"\n",
    "    def say(self):\n",
    "        print(\"我正在学Python\")\n",
    "clangs = CLanguage()\n",
    "print(hasattr(clangs,\"name\"))\n",
    "print(hasattr(clangs,\"add\"))\n",
    "print(hasattr(clangs,\"say\"))\n",
    "\n",
    "print(getattr(clangs,\"name\"))\n",
    "print(getattr(clangs,\"add\"))\n",
    "print(getattr(clangs,\"say\"))\n",
    "print(getattr(clangs,\"display\",'nodisplay'))\n",
    "# print(getattr(clangs,\"display\"))\n",
    "# *如果方法不为类对象所有，要么返回指定的参数，要么程序报 AttributeError 错误。\n",
    "\n",
    "setattr(clangs,\"name\",\"Python教程\")\n",
    "setattr(clangs,\"add\",\"http://c.biancheng.net/python\")\n",
    "\n",
    "print(clangs.name)\n",
    "print(clangs.add)\n"
   ]
  },
  {
   "cell_type": "markdown",
   "metadata": {},
   "source": [
    "####  issubclass和isinstance函数\n",
    "\n",
    "- issubclass(cls, class_or_tuple)：检查 cls 是否为后一个类或元组包含的多个类中任意类的任意一个的子类。\n",
    "- isinstance(obj, class_or_tuple)：检查 obj 是否为后一个类或元组包含的多个类中任意类的任意一个的对象。\n",
    "\n",
    "- \\_\\_bases__ 属性，通过该属性可以查看该类的所有直接父类\n",
    "\n",
    "- \\_\\_subclasses__() 方法，通过该方法可以查看该类的所有直接子类"
   ]
  },
  {
   "cell_type": "markdown",
   "metadata": {},
   "source": [
    "#### \\_\\_call__\n",
    "\n",
    "该方法的功能类似于在类中重载 () 运算符，使得类实例对象可以像调用普通函数那样，以“对象名()”的形式使用。\n"
   ]
  },
  {
   "cell_type": "code",
   "execution_count": null,
   "metadata": {},
   "outputs": [],
   "source": [
    "class CLanguage:\n",
    "    # 定义__call__方法\n",
    "    def __call__(self,name,add):\n",
    "        print(\"调用__call__()方法\",name,add)\n",
    "clangs = CLanguage()\n",
    "clangs(\"C语言中文网\",\"http://c.biancheng.net\")\n",
    "# *等价于clangs.__call__(xx\n"
   ]
  },
  {
   "cell_type": "markdown",
   "metadata": {},
   "source": [
    "hasattr函数有一个缺陷，即它无法判断该指定的名称，到底是类属性还是类方法。\n",
    "\n",
    "类实例对象包含的方法，其实也属于可调用对象，但类属性却不是。"
   ]
  },
  {
   "cell_type": "code",
   "execution_count": 10,
   "metadata": {},
   "outputs": [
    {
     "name": "stdout",
     "output_type": "stream",
     "text": [
      "False\n",
      "**********\n",
      "True\n",
      "True\n"
     ]
    }
   ],
   "source": [
    "class CLanguage:\n",
    "    def __init__ (self):\n",
    "        self.name = \"C语言中文网\"\n",
    "        self.add = \"http://c.biancheng.net\"\n",
    "    def say(self):\n",
    "        print(\"我正在学Python\")\n",
    "clangs = CLanguage()\n",
    "if hasattr(clangs,\"name\"):\n",
    "    print(hasattr(clangs.name,\"__call__\"))\n",
    "print(\"**********\")\n",
    "if hasattr(clangs,\"say\"):\n",
    "    print(hasattr(clangs.say,\"__call__\"))\n",
    "\n",
    "# *简写为\n",
    "print(hasattr(clangs,\"say\") and hasattr(clangs.say,\"__call__\"))"
   ]
  },
  {
   "cell_type": "markdown",
   "metadata": {},
   "source": [
    "通过以下代码实现限制类的创建参数\n",
    "\n",
    "__call__函数并不能直接加在类当中，因为它的应用范围是实例，而不是类。而我们希望的是在创建实例的时候进行限制，而不是对调用实例的时候进行限制，所以这段逻辑只能通过元类实现。\n",
    "\n",
    "<img src=\"https://pic4.zhimg.com/80/v2-31efba88c5b66dd7b3341d4d2a4e6e0b_1440w.jpg\">"
   ]
  },
  {
   "cell_type": "markdown",
   "metadata": {},
   "source": [
    "### 重载\n",
    "\n",
    "<table>\n",
    "<caption>\n",
    "表 1 Python 常用重载运算符</caption>\n",
    "<tbody>\n",
    "<tr>\n",
    "<th>\n",
    "重载运算符</th>\n",
    "<th>\n",
    "含义</th>\n",
    "</tr>\n",
    "<tr>\n",
    "<td>\n",
    "__new__</td>\n",
    "<td>\n",
    "创建类，在 __init__ 之前创建对象</td>\n",
    "</tr>\n",
    "<tr>\n",
    "<td>\n",
    "__init__</td>\n",
    "<td>\n",
    "类的构造函数，其功能是创建类对象时做初始化工作。</td>\n",
    "</tr>\n",
    "<tr>\n",
    "<td>\n",
    "__del__&nbsp;</td>\n",
    "<td>\n",
    "析构函数，其功能是销毁对象时进行回收资源的操作</td>\n",
    "</tr>\n",
    "<tr>\n",
    "<td>\n",
    "__add__</td>\n",
    "<td>\n",
    "加法运算符 +，当类对象 X 做例如 X+Y 或者 X+=Y 等操作，内部会调用此方法。但如果类中对 __iadd__ 方法进行了重载，则类对象 X 在做 X+=Y 类似操作时，会优先选择调用 __iadd__ 方法。</td>\n",
    "</tr>\n",
    "<tr>\n",
    "<td>\n",
    "__radd__</td>\n",
    "<td>\n",
    "当类对象 X 做类似 Y+X 的运算时，会调用此方法。</td>\n",
    "</tr>\n",
    "<tr>\n",
    "<td>\n",
    "__iadd__</td>\n",
    "<td>\n",
    "重载 += 运算符，也就是说，当类对象 X 做类似&nbsp;X+=Y 的操作时，会调用此方法。</td>\n",
    "</tr>\n",
    "<tr>\n",
    "<td>\n",
    "__or__</td>\n",
    "<td>\n",
    "“或”运算符 |，如果没有重载 __ior__，则在类似 X|Y、X|=Y 这样的语句中，“或”符号生效</td>\n",
    "</tr>\n",
    "<tr>\n",
    "<td>\n",
    "__repr__，__str__</td>\n",
    "<td>\n",
    "格式转换方法，分别对应函数 repr(X)、str(X)</td>\n",
    "</tr>\n",
    "<tr>\n",
    "<td>\n",
    "__call__</td>\n",
    "<td>\n",
    "函数调用，类似于 X(*args, **kwargs) 语句</td>\n",
    "</tr>\n",
    "<tr>\n",
    "<td>\n",
    "__getattr__</td>\n",
    "<td>\n",
    "点号运算，用来获取类属性</td>\n",
    "</tr>\n",
    "<tr>\n",
    "<td>\n",
    "__setattr__</td>\n",
    "<td>\n",
    "属性赋值语句，类似于 X.any=value</td>\n",
    "</tr>\n",
    "<tr>\n",
    "<td>\n",
    "__delattr__</td>\n",
    "<td>\n",
    "删除属性，类似于 del X.any</td>\n",
    "</tr>\n",
    "<tr>\n",
    "<td>\n",
    "__getattribute__</td>\n",
    "<td>\n",
    "获取属性，类似于 X.any</td>\n",
    "</tr>\n",
    "<tr>\n",
    "<td>\n",
    "__getitem__</td>\n",
    "<td>\n",
    "索引运算，类似于 X[key]，X[i:j]</td>\n",
    "</tr>\n",
    "<tr>\n",
    "<td>\n",
    "__setitem__</td>\n",
    "<td>\n",
    "索引赋值语句，类似于 X[key], X[i:j]=sequence</td>\n",
    "</tr>\n",
    "<tr>\n",
    "<td>\n",
    "__delitem__&nbsp;</td>\n",
    "<td>\n",
    "索引和分片删除</td>\n",
    "</tr>\n",
    "<tr>\n",
    "<td>\n",
    "__get__, __set__, __delete__</td>\n",
    "<td>\n",
    "描述符属性，类似于 X.attr，X.attr=value，del X.attr</td>\n",
    "</tr>\n",
    "<tr>\n",
    "<td>\n",
    "__len__&nbsp;</td>\n",
    "<td>\n",
    "计算长度，类似于 len(X)</td>\n",
    "</tr>\n",
    "<tr>\n",
    "<td>\n",
    "__lt__，__gt__，__le__，__ge__，__eq__，__ne__&nbsp;</td>\n",
    "<td>\n",
    "比较，分别对应于 &lt;、&gt;、&lt;=、&gt;=、=、!= 运算符。</td>\n",
    "</tr>\n",
    "<tr>\n",
    "<td>\n",
    "__iter__，__next__</td>\n",
    "<td>\n",
    "迭代环境下，生成迭代器与取下一条，类似于 I=iter(X) 和 next()</td>\n",
    "</tr>\n",
    "<tr>\n",
    "<td>\n",
    "__contains__</td>\n",
    "<td>\n",
    "成员关系测试，类似于 item in X</td>\n",
    "</tr>\n",
    "<tr>\n",
    "<td>\n",
    "__index__&nbsp;</td>\n",
    "<td>\n",
    "整数值，类似于 hex(X)，bin(X)，oct(X)</td>\n",
    "</tr>\n",
    "<tr>\n",
    "<td>\n",
    "__enter__，__exit__</td>\n",
    "<td>\n",
    "在对类对象执行类似 with obj as var 的操作之前，会先调用 __enter__ 方法，其结果会传给 var；在最终结束该操作之前，会调用 __exit__ 方法（常用于做一些清理、扫尾的工作）</td>\n",
    "</tr>\n",
    "</tbody>\n",
    "</table>"
   ]
  },
  {
   "cell_type": "code",
   "execution_count": 11,
   "metadata": {},
   "outputs": [
    {
     "name": "stdout",
     "output_type": "stream",
     "text": [
      "name:Anna;age:42\n",
      "name:Anna;age:42\n",
      "name:Anna;age:42\n",
      "False\n",
      "name:Anna;age:65\n"
     ]
    }
   ],
   "source": [
    "class MyClass: #自定义一个类\n",
    "    def __init__(self, name , age): #定义该类的初始化函数\n",
    "        self.name = name #将传入的参数值赋值给成员交量\n",
    "        self.age = age\n",
    "    def __str__(self): #用于将值转化为字符串形式，等同于 str(obj)\n",
    "        return \"name:\"+self.name+\";age:\"+str(self.age)\n",
    "   \n",
    "    __repr__ = __str__ #转化为供解释器读取的形式\n",
    "   \n",
    "    def __lt__(self, record): #重载 self<record 运算符\n",
    "        if self.age < record.age:\n",
    "            return True\n",
    "        else:\n",
    "            return False\n",
    "   \n",
    "    def __add__(self, record): #重载 + 号运算符\n",
    "        return MyClass(self.name, self.age+record.age)\n",
    "myc = MyClass(\"Anna\", 42) #实例化一个对象 Anna，并为其初始化\n",
    "mycl = MyClass(\"Gary\", 23) #实例化一个对象 Gary，并为其初始化\n",
    "print(repr(myc)) #格式化对象 myc，\n",
    "print(myc) #解释器读取对象 myc，调用 repr\n",
    "print (str (myc)) #格式化对象 myc ，输出\"name:Anna;age:42\"\n",
    "print(myc < mycl) #比较 myc<mycl 的结果，输出 False\n",
    "print (myc+mycl) #进行两个 MyClass 对象的相加运算，输出 \"name:Anna;age:65\""
   ]
  },
  {
   "cell_type": "markdown",
   "metadata": {},
   "source": [
    "### 迭代器\n",
    "\n",
    "如果要自定义实现一个迭代器，则类中必须实现如下 2 个方法：\n",
    "- \\_\\_next__(self)：返回容器的下一个元素。\n",
    "- \\_\\_iter__(self)：该方法返回一个迭代器（iterator）。\n",
    "\n"
   ]
  },
  {
   "cell_type": "code",
   "execution_count": 12,
   "metadata": {},
   "outputs": [
    {
     "name": "stdout",
     "output_type": "stream",
     "text": [
      "2\n",
      "1\n"
     ]
    }
   ],
   "source": [
    "class listDemo:\n",
    "    def __init__(self):\n",
    "        self.__date=[]\n",
    "        self.__step = 0\n",
    "    def __next__(self):\n",
    "        if self.__step <= 0:\n",
    "            raise StopIteration\n",
    "        self.__step -= 1 # 逆向\n",
    "        #返回下一个元素\n",
    "        return self.__date[self.__step]\n",
    "    def __iter__(self):\n",
    "        #实例对象本身就是迭代器对象，因此直接返回 self 即可\n",
    "        return self\n",
    "    #添加元素\n",
    "    def __setitem__(self,key,value):\n",
    "        self.__date.insert(key,value)\n",
    "        self.__step += 1\n",
    "mylist = listDemo()\n",
    "mylist[0]=1\n",
    "mylist[1]=2\n",
    "for i in mylist:\n",
    "    print (i)"
   ]
  },
  {
   "cell_type": "markdown",
   "metadata": {},
   "source": [
    "除此之外，Python 内置的 iter() 函数也会返回一个迭代器，该函数的语法格式如下：\n",
    "iter(obj[, sentinel])\n",
    "\n",
    "其中，obj 必须是一个可迭代的容器对象，而 sentinel 作为可选参数，如果使用此参数，要求 obj 必须是一个可调用对象"
   ]
  },
  {
   "cell_type": "code",
   "execution_count": 14,
   "metadata": {},
   "outputs": [
    {
     "name": "stdout",
     "output_type": "stream",
     "text": [
      "1\n",
      "2\n",
      "3\n"
     ]
    }
   ],
   "source": [
    "# 将列表转换为迭代器\n",
    "myIter = iter([1, 2, 3])\n",
    "# 依次获取迭代器的下一个元素\n",
    "print(myIter.__next__())\n",
    "print(myIter.__next__())\n",
    "print(myIter.__next__())\n"
   ]
  },
  {
   "cell_type": "markdown",
   "metadata": {},
   "source": [
    "当使用返回的迭代器调用 \\_\\_next__() 方法时，它会通过执行 obj() 调用 \\_\\_call__() 方法，如果该方法的返回值和第 2 个参数值相同，则输出 StopInteration 异常；反之，则输出 \\_\\_call__() 方法的返回值。"
   ]
  },
  {
   "cell_type": "code",
   "execution_count": 15,
   "metadata": {},
   "outputs": [
    {
     "name": "stdout",
     "output_type": "stream",
     "text": [
      "2\n"
     ]
    },
    {
     "ename": "StopIteration",
     "evalue": "",
     "output_type": "error",
     "traceback": [
      "\u001b[0;31m---------------------------------------------------------------------------\u001b[0m",
      "\u001b[0;31mStopIteration\u001b[0m                             Traceback (most recent call last)",
      "Input \u001b[0;32mIn [15]\u001b[0m, in \u001b[0;36m<cell line: 18>\u001b[0;34m()\u001b[0m\n\u001b[1;32m     16\u001b[0m a \u001b[38;5;241m=\u001b[39m \u001b[38;5;28miter\u001b[39m(mylist,\u001b[38;5;241m1\u001b[39m)\n\u001b[1;32m     17\u001b[0m \u001b[38;5;28mprint\u001b[39m(a\u001b[38;5;241m.\u001b[39m\u001b[38;5;21m__next__\u001b[39m())\n\u001b[0;32m---> 18\u001b[0m \u001b[38;5;28mprint\u001b[39m(\u001b[43ma\u001b[49m\u001b[38;5;241;43m.\u001b[39;49m\u001b[38;5;21;43m__next__\u001b[39;49m\u001b[43m(\u001b[49m\u001b[43m)\u001b[49m)\n",
      "\u001b[0;31mStopIteration\u001b[0m: "
     ]
    }
   ],
   "source": [
    "class listDemo:\n",
    "    def __init__(self):\n",
    "        self.__date=[]\n",
    "        self.__step = 0\n",
    "    def __setitem__(self,key,value):\n",
    "        self.__date.insert(key,value)\n",
    "        self.__step += 1\n",
    "    #是该类实例对象成为可调用对象\n",
    "    def __call__(self):\n",
    "        self.__step-=1\n",
    "        return self.__date[self.__step]\n",
    "mylist = listDemo()\n",
    "mylist[0]=1\n",
    "mylist[1]=2\n",
    "#将 mylist 变为迭代器\n",
    "a = iter(mylist,1)\n",
    "print(a.__next__())\n",
    "print(a.__next__())"
   ]
  },
  {
   "cell_type": "markdown",
   "metadata": {},
   "source": [
    "### 生成器\n",
    "\n",
    "生成器本质上也是迭代器，不过它比较特殊。\n",
    "\n",
    "以 list 容器为例，在使用该容器迭代一组数据时，必须事先将所有数据存储到容器中，才能开始迭代；而生成器却不同，它可以实现在迭代的同时生成元素。\n",
    "\n",
    "<font color=\"MediumTurquoise\"> 相比迭代器，生成器最明显的优势就是节省内存空间，即它不会一次性生成所有的数据，而是什么时候需要，什么时候生成。</font>\n",
    "\n",
    "生成器的创建方式也比迭代器简单很多，大体分为以下 2 步：\n",
    "- 定义一个以 yield 关键字标识返回值的函数；\n",
    "- 调用刚刚创建的函数，即可创建一个生成器。\n"
   ]
  },
  {
   "cell_type": "code",
   "execution_count": 23,
   "metadata": {},
   "outputs": [
    {
     "name": "stdout",
     "output_type": "stream",
     "text": [
      "开始执行\n",
      "0\n",
      "继续执行\n",
      "1\n",
      "继续执行\n",
      "2\n",
      "继续执行\n",
      "3\n",
      "继续执行\n",
      "4\n",
      "继续执行\n",
      "开始执行\n",
      "继续执行\n",
      "继续执行\n",
      "继续执行\n",
      "继续执行\n",
      "继续执行\n",
      "[0, 1, 2, 3, 4]\n",
      "开始执行\n",
      "继续执行\n",
      "继续执行\n",
      "继续执行\n",
      "继续执行\n",
      "继续执行\n",
      "(0, 1, 2, 3, 4)\n"
     ]
    }
   ],
   "source": [
    "def intNum():\n",
    "    print(\"开始执行\")\n",
    "    for i in range(5):\n",
    "        yield i\n",
    "        print(\"继续执行\")\n",
    "num = intNum()\n",
    "print(num.__next__())\n",
    "print(num.__next__())\n",
    "for i in num:\n",
    "    print(i)\n",
    "    \n",
    "# *还可以使用 list() 函数和 tuple() 函数，直接将生成器能生成的所有值存储成列表或者元组的形式\n",
    "\n",
    "num = intNum() #要重新初始化\n",
    "print(list(num))\n",
    "num = intNum()\n",
    "print(tuple(num))"
   ]
  },
  {
   "cell_type": "markdown",
   "metadata": {},
   "source": [
    "1) 首先，在创建有 num 生成器的前提下，通过其调用 \\_\\_next__() 方法，会使 Python 解释器开始执行 intNum() 生成器函数中的代码，因此会输出“开始执行”，程序会一直执行到yield i，而此时的 i==0，因此 Python 解释器输出“0”。由于受到 yield 的影响，<font color=\"MediumTurquoise\">程序会在此处暂停。</font>\n",
    "\n",
    "2) 然后，我们使用 num 生成器调用 \\_\\_next__() 方法，它会是程序继续执行，即输出“继续执行”，程序又会执行到yield i，此时 i==1，因此输出“1”，然后程序暂停。\n",
    "\n",
    "3) 最后，我们使用 for 循环遍历 num 生成器，之所以能这么做，是因为 for 循环底层会不断地调用 \\_\\_next__() 方法，使暂停的程序继续执行，因此会输出后续的结果。"
   ]
  },
  {
   "cell_type": "markdown",
   "metadata": {},
   "source": [
    "### 自定义函数装饰器\n",
    "\n",
    "**原理是闭包**\n",
    "\n",
    "＠staticmethod、＠classmethod 和 @property是常用的三种内置函数装饰器\n",
    "\n",
    "```python\n",
    "#funA 作为装饰器函数\n",
    "def funA(fn):\n",
    "    #...\n",
    "    fn() # 执行传入的fn参数\n",
    "    #...\n",
    "    return '...'\n",
    "@funA\n",
    "def funB():\n",
    "    #...\n",
    "    \n",
    "# *上面程序完全等价于下面的程序：\n",
    "def funA(fn):\n",
    "    #...\n",
    "    fn() # 执行传入的fn参数\n",
    "    #...\n",
    "    return '...'\n",
    "def funB():\n",
    "    #...\n",
    "funB = funA(funB)\n",
    "\n",
    "```\n"
   ]
  },
  {
   "cell_type": "code",
   "execution_count": 25,
   "metadata": {},
   "outputs": [
    {
     "name": "stdout",
     "output_type": "stream",
     "text": [
      "called with 1\n",
      "1\n",
      "agein: 1\n"
     ]
    }
   ],
   "source": [
    "\n",
    "def cache_decorator(func):\n",
    "    cache={}\n",
    "    def decorator(x):\n",
    "        if x in cache:\n",
    "            return cache[x] #从缓存中读取并返回\n",
    "        result=func(x)\n",
    "        cache[x]=result # 记录\n",
    "        return result\n",
    "    return decorator\n",
    "@cache_decorator\n",
    "def slow(x):\n",
    "    #  这里可能会有重负载的 CPU 密集型工作\n",
    "    print('called with '+str(x))\n",
    "    return x \n",
    "print(slow('1'))\n",
    "print('agein: '+slow('1')) \n",
    "    \n",
    "    "
   ]
  },
  {
   "cell_type": "markdown",
   "metadata": {},
   "source": [
    "装饰器（闭包）实现偏函数"
   ]
  },
  {
   "cell_type": "code",
   "execution_count": 6,
   "metadata": {},
   "outputs": [
    {
     "data": {
      "text/plain": [
       "8"
      ]
     },
     "execution_count": 6,
     "metadata": {},
     "output_type": "execute_result"
    }
   ],
   "source": [
    "def pow_decorator(func,e):\n",
    "    def decorator(val):\n",
    "        return func(val,exp=e)\n",
    "    return decorator\n",
    "def pow(val,exp):\n",
    "    return val**exp\n",
    "\n",
    "pow_3=pow_decorator(pow,3)\n",
    "pow_3(2)\n"
   ]
  },
  {
   "cell_type": "code",
   "execution_count": null,
   "metadata": {},
   "outputs": [],
   "source": []
  }
 ],
 "metadata": {
  "interpreter": {
   "hash": "df0893f56f349688326838aaeea0de204df53a132722cbd565e54b24a8fec5f6"
  },
  "kernelspec": {
   "display_name": "Python 3.8.10 64-bit",
   "language": "python",
   "name": "python3"
  },
  "language_info": {
   "codemirror_mode": {
    "name": "ipython",
    "version": 3
   },
   "file_extension": ".py",
   "mimetype": "text/x-python",
   "name": "python",
   "nbconvert_exporter": "python",
   "pygments_lexer": "ipython3",
   "version": "3.8.10"
  },
  "orig_nbformat": 4
 },
 "nbformat": 4,
 "nbformat_minor": 2
}
