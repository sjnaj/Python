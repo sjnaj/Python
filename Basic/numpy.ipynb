{
 "cells": [
  {
   "cell_type": "markdown",
   "metadata": {},
   "source": [
    "# numpy"
   ]
  },
  {
   "cell_type": "markdown",
   "metadata": {},
   "source": [
    "## array"
   ]
  },
  {
   "cell_type": "code",
   "execution_count": 2,
   "metadata": {},
   "outputs": [
    {
     "name": "stdout",
     "output_type": "stream",
     "text": [
      "<class 'numpy.ndarray'>\n",
      "(3,)\n",
      "(2, 3)\n",
      "6\n"
     ]
    }
   ],
   "source": [
    "import numpy as np\n",
    "\n",
    "a = np.array([1, 2, 3])\n",
    "print(type(a))\n",
    "print(a.shape)# 等价于matlab的size 返回规格数组\n",
    "b = np.array([[1, 2, 3], [4, 5, 6]]) #注意外层的中括号\n",
    "\n",
    "print(b.shape)\n",
    "print(b.size)#元素总数\n",
    "\n",
    "\n"
   ]
  },
  {
   "cell_type": "code",
   "execution_count": 33,
   "metadata": {},
   "outputs": [
    {
     "name": "stdout",
     "output_type": "stream",
     "text": [
      "[[0. 0.]\n",
      " [0. 0.]]\n",
      "[[1. 1. 1.]\n",
      " [1. 1. 1.]]\n",
      "[[7 7]\n",
      " [7 7]]\n",
      "[[1. 0.]\n",
      " [0. 1.]]\n",
      "[[0.931564   0.71448993 0.70050021]\n",
      " [0.79967137 0.98515349 0.69637934]\n",
      " [0.71556926 0.15051915 0.37184519]\n",
      " [0.81690911 0.79321669 0.70375898]\n",
      " [0.56734495 0.41035841 0.85413884]]\n",
      "[[9 8 8]\n",
      " [8 5 9]\n",
      " [7 8 8]\n",
      " [5 6 6]\n",
      " [7 9 9]]\n",
      "[[9.50222978 7.58528312 6.73286295]\n",
      " [9.04160859 7.54079861 9.87053905]\n",
      " [6.08895667 5.69645448 9.59702358]\n",
      " [7.2269475  5.11671335 9.58874568]\n",
      " [5.76961805 5.75303219 8.563262  ]]\n"
     ]
    }
   ],
   "source": [
    "a = np.zeros((2, 2))\n",
    "print(a)\n",
    "\n",
    "b = np.ones((2, 3))\n",
    "print(b)\n",
    "\n",
    "c = np.full((2, 2), 7)\n",
    "print(c)\n",
    "\n",
    "d = np.eye(2)\n",
    "print(d)\n",
    "\n",
    "e = np.random.random((5, 3))#(0,1)\n",
    "print(e)\n",
    "\n",
    "rand_arr = np.random.randint(low=5, high=10, size=(5, 3))\n",
    "print(rand_arr)\n",
    "\n",
    "rand_arr = np.random.uniform(5, 10, size=(5, 3))\n",
    "\n",
    "print(rand_arr)\n"
   ]
  },
  {
   "cell_type": "code",
   "execution_count": 40,
   "metadata": {},
   "outputs": [
    {
     "name": "stdout",
     "output_type": "stream",
     "text": [
      "[[2 3]\n",
      " [6 7]]\n",
      "[1 2 3 4]\n",
      "[[5 6 7 8]]\n",
      "2\n",
      "77\n"
     ]
    }
   ],
   "source": [
    "a = np.array([[1,2,3,4], [5,6,7,8], [9,10,11,12]])\n",
    "\n",
    "# Use slicing to pull out the subarray consisting of the first 2 rows\n",
    "# and columns 1 and 2; b is the following array of shape (2, 2):\n",
    "# [[2 3]\n",
    "#  [6 7]]\n",
    "b = a[:2, 1:3]# 与matlab不同，切片是前闭后开的\n",
    "print(b)\n",
    "print(a[0,:])\n",
    "print(a[1:2,:])# !访问第二行，直接用2是错误的\n",
    "\n",
    "print(a[0, 1])   # Prints \"2\"\n",
    "b[0, 0] = 77     # b[0, 0] is the same piece of data as a[0, 1]\n",
    "print(a[0, 1])   # Prints \"77\""
   ]
  },
  {
   "cell_type": "code",
   "execution_count": 41,
   "metadata": {},
   "outputs": [
    {
     "name": "stdout",
     "output_type": "stream",
     "text": [
      "[[False False]\n",
      " [ True  True]\n",
      " [ True  True]]\n"
     ]
    }
   ],
   "source": [
    "a = np.array([[1,2], [3, 4], [5, 6]])\n",
    "print(a>2)# 返回布尔数组"
   ]
  },
  {
   "cell_type": "code",
   "execution_count": 43,
   "metadata": {},
   "outputs": [
    {
     "name": "stdout",
     "output_type": "stream",
     "text": [
      "int64\n"
     ]
    }
   ],
   "source": [
    "x = np.array([1, 2], dtype=np.int64)   # Force a particular datatype\n",
    "print(x.dtype)     # 数据类型"
   ]
  },
  {
   "cell_type": "code",
   "execution_count": 53,
   "metadata": {},
   "outputs": [
    {
     "name": "stdout",
     "output_type": "stream",
     "text": [
      "[[ 5 12]\n",
      " [21 32]]\n",
      "[[19 22]\n",
      " [43 50]]\n",
      "[[ 3. -2.]\n",
      " [ 2. -1.]]\n",
      "130\n"
     ]
    }
   ],
   "source": [
    "x = np.array([[1,2],[3,4]])\n",
    "y = np.array([[5,6],[7,8]])\n",
    "print(x*y)# 标量乘积，相当于matlab的.*\n",
    "# print(np.dot(x,y))# 乘积\n",
    "print(x@y)# !新版本乘积\n",
    "from numpy.linalg import inv\n",
    "print(x@inv(y))# !乘逆矩阵相当于除法\n",
    "a = np.array([[1,2],[3,4]]) \n",
    "b = np.array([[11,12],[13,14]]) \n",
    " \n",
    "# vdot 将数组展开计算内积\n",
    "print (np.vdot(a,b))\n"
   ]
  },
  {
   "cell_type": "markdown",
   "metadata": {},
   "source": [
    "arange和linspace\n",
    "\n",
    "1、arange(初始值，结束值，间隔) 生成的序列不包含结束值，linspace(初始值, 结束值, 值的个数) 生成的序列包含结束值。\n",
    "\n",
    "2、如果要使 linspace 和 arrange 等效，可以用 linspace(初始值, 结束值, 值的个数, endpoint = False). 当然，两者有各自的使用场景，尽量不要混用。arrange 适用于知道序列中相邻两数之间的间隔的情况下，比如生成一定范围内奇数或者偶数的序列。linspace 适合序列长度和序列取值范围已知的情况。比如采样频率为1200 Hz, 也就是说 0~1s 之间有1200 个点。\n"
   ]
  },
  {
   "cell_type": "markdown",
   "metadata": {},
   "source": [
    "index和语句运行时间测量(ipython的magic函数)"
   ]
  },
  {
   "cell_type": "code",
   "execution_count": 68,
   "metadata": {},
   "outputs": [
    {
     "name": "stdout",
     "output_type": "stream",
     "text": [
      "[1 4 5]\n",
      "[[16 17 18 19]\n",
      " [ 8  9 10 11]\n",
      " [ 4  5  6  7]\n",
      " [28 29 30 31]]\n",
      "[ 7  8  9 10 11]\n",
      "CPU times: user 18 µs, sys: 0 ns, total: 18 µs\n",
      "Wall time: 25 µs\n",
      "CPU times: user 16 µs, sys: 0 ns, total: 16 µs\n",
      "Wall time: 23.1 µs\n",
      "1.02 µs ± 97.9 ns per loop (mean ± std. dev. of 7 runs, 1,000,000 loops each)\n",
      "795 ns ± 50.3 ns per loop (mean ± std. dev. of 7 runs, 1,000,000 loops each)\n",
      "CPU times: user 14.7 s, sys: 52.4 ms, total: 14.7 s\n",
      "Wall time: 14.9 s\n"
     ]
    }
   ],
   "source": [
    "%%time\n",
    "# 只能置于最上方\n",
    "x = np.array([[1,  2],  [3,  4],  [5,  6]])\n",
    "# [0,1,2]代表行索引;[0,1,0]代表列索引\n",
    "y = x[[0, 1, 2], [0, 1, 0]]\n",
    "print(y)\n",
    "\n",
    "x = np.arange(32).reshape((8, 4))\n",
    "# 分别对应 第4行数据、第2行数据、第1行数据、第7行数据项\n",
    "print(x[[4, 2, 1, 7]])\n",
    "\n",
    "# 布尔索引\n",
    "x = np.array([[0,  1,  2], [3,  4,  5], [6,  7,  8], [9, 10, 11]])\n",
    "print(x[x > 6])\n",
    "\n",
    "x = np.ones((2, 3, 4))\n",
    "# !...代替连续的:,速度更快\n",
    "%time x[:, :, 0]\n",
    "%time x[..., 0]\n",
    "%timeit x[:, :, 0]\n",
    "# !多次循环更精确\n",
    "%timeit x[..., 0]\n"
   ]
  },
  {
   "cell_type": "markdown",
   "metadata": {},
   "source": [
    "数组变维操作\n",
    "\n",
    "<table>\n",
    "<caption>\n",
    "数组变维操作</caption>\n",
    "<tbody>\n",
    "<tr>\n",
    "<th>\n",
    "函数名称</th>\n",
    "<th>\n",
    "函数介绍</th>\n",
    "</tr>\n",
    "<tr>\n",
    "<td>\n",
    "reshape</td>\n",
    "<td>\n",
    "在不改变数组元素的条件下，修改数组的形状，返回视图</td>\n",
    "</tr>\n",
    "<tr>\n",
    "<td>\n",
    "flat</td>\n",
    "<td>\n",
    "返回是一个迭代器，可以用 for 循环遍历其中的每一个元素。</td>\n",
    "</tr>\n",
    "<tr>\n",
    "<td>\n",
    "flatten</td>\n",
    "<td>\n",
    "以一维数组的形式返回一份数组的副本，对副本的操作不会影响到原数组。</td>\n",
    "</tr>\n",
    "<tr>\n",
    "<td>\n",
    "ravel</td>\n",
    "<td>\n",
    "返回一个连续的扁平数组（即展开的一维数组），与 flatten不同，它返回的是数组视图（修改视图会影响原数组）。</td>\n",
    "</tr>\n",
    "<tr>\n",
    "<td>\n",
    "resize</td>\n",
    "<td>\n",
    "修改原数组</td>\n",
    "</tbody>\n",
    "</table>"
   ]
  },
  {
   "cell_type": "code",
   "execution_count": 15,
   "metadata": {},
   "outputs": [
    {
     "name": "stdout",
     "output_type": "stream",
     "text": [
      "[[0 1 2 3 4]\n",
      " [5 6 7 8 9]]\n",
      "[[0 1 2 3 4]\n",
      " [5 6 7 8 9]]\n"
     ]
    }
   ],
   "source": [
    "arr = np.arange(10).reshape(2,-1)# -1表示根据已知的维度推测\n",
    "print(arr)\n",
    "\n",
    "# 等价于\n",
    "\n",
    "arr=np.arange(10)\n",
    "arr.shape=2,-1\n",
    "# !等价于arr.resize(2,5)不支持负索引\n",
    "print(arr)\n"
   ]
  },
  {
   "cell_type": "code",
   "execution_count": 23,
   "metadata": {},
   "outputs": [
    {
     "name": "stdout",
     "output_type": "stream",
     "text": [
      "[0 1 2]\n",
      "[3 4 5]\n",
      "[6 7 8]\n",
      "0，1，2，3，4，5，6，7，8，\n",
      "[0 3 6 1 4 7 2 5 8]\n",
      "[0 3 6 1 4 7 2 5 8]\n"
     ]
    }
   ],
   "source": [
    "a = np.arange(9).reshape(3,3)\n",
    "for row in a:\n",
    "    print (row)\n",
    "#使用flat属性：\n",
    "for ele in a.flat:\n",
    "    print (ele,end=\"，\")\n",
    "\n",
    "print()\n",
    "print (a.flatten(order = 'F'))\n",
    "\n",
    "print (a.ravel(order = 'F'))\n"
   ]
  },
  {
   "cell_type": "markdown",
   "metadata": {},
   "source": [
    "增删改查\n",
    "\n",
    "<table>\n",
    "<caption>\n",
    "数组元素操作方法</caption>\n",
    "<tbody>\n",
    "<tr>\n",
    "<th>\n",
    "函数名称</th>\n",
    "<th>\n",
    "描述说明</th>\n",
    "</tr>\n",
    "<tr>\n",
    "<td>\n",
    "resize</td>\n",
    "<td>\n",
    "返回指定形状的新数组。</td>\n",
    "</tr>\n",
    "<tr>\n",
    "<td>\n",
    "append</td>\n",
    "<td>\n",
    "将元素值添加到数组的末尾。</td>\n",
    "</tr>\n",
    "<tr>\n",
    "<td>\n",
    "insert</td>\n",
    "<td>\n",
    "沿规定的轴将元素值插入到指定的元素前。</td>\n",
    "</tr>\n",
    "<tr>\n",
    "<td>\n",
    "delete</td>\n",
    "<td>\n",
    "删掉某个轴上的子数组，并返回删除后的新数组。</td>\n",
    "</tr>\n",
    "<tr>\n",
    "<td>\n",
    "argwhere</td>\n",
    "<td>\n",
    "返回数组内符合条件的元素的索引值。</td>\n",
    "</tr>\n",
    "<tr>\n",
    "<td>\n",
    "unique</td>\n",
    "<td>\n",
    "用于删除数组中重复的元素，并按元素值由大到小返回一个新数组。</td>\n",
    "</tr>\n",
    "</tbody>\n",
    "</table>"
   ]
  },
  {
   "cell_type": "markdown",
   "metadata": {},
   "source": [
    "arange\n",
    "\n",
    "numpy.arange(start, stop, step, dtype = None)\n",
    "\n",
    "在给定间隔内返回均匀间隔的值。\n",
    "\n",
    "值在半开区间 [开始，停止)内生成"
   ]
  },
  {
   "cell_type": "code",
   "execution_count": 5,
   "metadata": {},
   "outputs": [
    {
     "name": "stdout",
     "output_type": "stream",
     "text": [
      "[1 2 3 4 5 6 7 8 9]\n"
     ]
    }
   ],
   "source": [
    "a=np.arange(1,10,1)\n",
    "print(a)"
   ]
  },
  {
   "cell_type": "code",
   "execution_count": 7,
   "metadata": {},
   "outputs": [
    {
     "name": "stdout",
     "output_type": "stream",
     "text": [
      "[1 1 3 1 5 1 7 1 9]\n"
     ]
    }
   ],
   "source": [
    "a[a%2==0]=1\n",
    "print(a)"
   ]
  },
  {
   "cell_type": "markdown",
   "metadata": {},
   "source": [
    "linspace同matlab，区间前后都闭"
   ]
  },
  {
   "cell_type": "markdown",
   "metadata": {},
   "source": [
    "叠加"
   ]
  },
  {
   "cell_type": "code",
   "execution_count": 16,
   "metadata": {},
   "outputs": [
    {
     "data": {
      "text/plain": [
       "array([[0, 1, 2, 3, 4, 1, 1, 1, 1, 1],\n",
       "       [5, 6, 7, 8, 9, 1, 1, 1, 1, 1]])"
      ]
     },
     "execution_count": 16,
     "metadata": {},
     "output_type": "execute_result"
    }
   ],
   "source": [
    "#竖直叠加\n",
    "a = np.arange(10).reshape(2,-1)\n",
    "b = np.repeat(1, 10).reshape(2,-1)\n",
    "\n",
    "# Answers\n",
    "# Method 1:\n",
    "np.concatenate([a, b], axis=0)\n",
    "\n",
    "# Method 2:\n",
    "np.vstack([a, b])\n",
    "\n",
    "# Method 3:\n",
    "np.r_[a, b]\n",
    "\n",
    "# 水平叠加\n",
    "# Answers\n",
    "# Method 1:\n",
    "np.concatenate([a, b], axis=1)\n",
    "\n",
    "# Method 2:\n",
    "np.hstack([a, b])\n",
    "\n",
    "# Method 3:\n",
    "np.c_[a, b]\n",
    "\n",
    "# *第三种最简便\n"
   ]
  },
  {
   "cell_type": "markdown",
   "metadata": {},
   "source": [
    "axis"
   ]
  },
  {
   "cell_type": "code",
   "execution_count": 4,
   "metadata": {},
   "outputs": [
    {
     "name": "stdout",
     "output_type": "stream",
     "text": [
      "10\n",
      "[4 6]\n",
      "[3 7]\n"
     ]
    },
    {
     "data": {
      "text/plain": [
       "array([1.5, 3.5])"
      ]
     },
     "execution_count": 4,
     "metadata": {},
     "output_type": "execute_result"
    }
   ],
   "source": [
    "import numpy as np\n",
    "x = np.array([[1,2],[3,4]])\n",
    "\n",
    "print(np.sum(x))  # Compute sum of all elements; prints \"10\"\n",
    "print(np.sum(x, axis=0))  # Compute sum of each column; prints \"[4 6]\"\n",
    "print(np.sum(x, axis=1))  # Compute sum of each row; prints \"[3 7]\"\n",
    "x.sum(axis=0)\n",
    "x.mean(axis=1)"
   ]
  },
  {
   "cell_type": "markdown",
   "metadata": {},
   "source": [
    "where\n",
    "\n",
    "where() 函数是另外一个根据条件返回数组中的值的有效方法。只需要把条件传递给它，它就会返回一个使得条件为真的**元素下标**的列表。"
   ]
  },
  {
   "cell_type": "code",
   "execution_count": 6,
   "metadata": {},
   "outputs": [
    {
     "name": "stdout",
     "output_type": "stream",
     "text": [
      "[5 6 7 8 9]\n"
     ]
    },
    {
     "data": {
      "text/plain": [
       "array([-1,  1,  1,  1,  1,  1,  1,  1,  1,  1])"
      ]
     },
     "execution_count": 6,
     "metadata": {},
     "output_type": "execute_result"
    }
   ],
   "source": [
    "a = np.arange(0, 100, 10)\n",
    "np.where(a < 50)\n",
    "c = np.where(a >= 50)[0] # !返回符合条件的一维位置数组组成的元组\n",
    "print(c)\n",
    "np.where(a > 5,1,-1)# 符合条件的位置设为1，不符合为-1，而且会直接输出\n",
    "\n"
   ]
  },
  {
   "cell_type": "markdown",
   "metadata": {},
   "source": [
    "广播机制\n",
    "\n",
    "这种机制的核心是对形状较小的数组，在横向或纵向上进行一定次数的重复，使其与形状较大的数组拥有相同的维度。\n",
    "\n",
    "相当于matlab的隐式拓展"
   ]
  },
  {
   "cell_type": "markdown",
   "metadata": {},
   "source": [
    "遍历"
   ]
  },
  {
   "cell_type": "code",
   "execution_count": 12,
   "metadata": {},
   "outputs": [
    {
     "name": "stdout",
     "output_type": "stream",
     "text": [
      "0\n",
      "5\n",
      "10\n",
      "15\n",
      "20\n",
      "25\n",
      "30\n",
      "35\n",
      "40\n",
      "45\n",
      "50\n",
      "55\n"
     ]
    }
   ],
   "source": [
    "a = np.arange(0,60,5)\n",
    "a = a.reshape(3,4)\n",
    "#!使用nditer迭代器,并使用for进行遍历\n",
    "for x in np.nditer(a):\n",
    "   print(x)"
   ]
  },
  {
   "cell_type": "code",
   "execution_count": 17,
   "metadata": {},
   "outputs": [
    {
     "name": "stdout",
     "output_type": "stream",
     "text": [
      "0, 20, 40, 5, 25, 45, 10, 30, 50, 15, 35, 55, \n",
      "0, 5, 10, 15, 20, 25, 30, 35, 40, 45, 50, 55, \n",
      "0:1,5:2,10:3,15:4,20:1,25:2,30:3,35:4,40:1,45:2,50:3,55:4,"
     ]
    }
   ],
   "source": [
    "a = np.arange(0,60,5).reshape(3,4)\n",
    "#copy方法生成数组副本\n",
    "for x in np.nditer(a.T.copy(order='C')):# 行优先\n",
    "    print (x, end=\", \" )\n",
    "print()\n",
    "for x in np.nditer(a.T.copy(order='F')):# 列优先\n",
    "    print(x,end=\", \")\n",
    "print()\n",
    "b = np.array([1, 2, 3, 4], dtype = int)\n",
    "#广播迭代\n",
    "for x,y in np.nditer([a,b]):\n",
    "    \n",
    "    print (\"%d:%d\" % (x,y),end=\",\")"
   ]
  },
  {
   "cell_type": "markdown",
   "metadata": {},
   "source": [
    "## 和matlab区别\n",
    "\n",
    "<iframe src=\"https://www.numpy.org.cn/user/numpy_for_matlab_users.html#%E7%BA%BF%E6%80%A7%E4%BB%A3%E6%95%B0%E5%8A%9F%E8%83%BD%E5%AF%B9%E5%BA%94%E8%A1%A8\" height=\"500\" width=\"80%\">"
   ]
  },
  {
   "cell_type": "markdown",
   "metadata": {},
   "source": [
    "## 线性代数\n",
    "\n",
    "<iframe src=\"https://www.numpy.org.cn/reference/routines/linalg.html#%E7%9F%A9%E9%98%B5%E5%92%8C%E5%90%91%E9%87%8F%E7%A7%AF\" height=\"500\" width=\"80%\"></iframe>"
   ]
  },
  {
   "cell_type": "markdown",
   "metadata": {},
   "source": [
    "## 位运算\n",
    "\n",
    "<tbody>\n",
    "<tr>\n",
    "<th>\n",
    "序号</th>\n",
    "<th>\n",
    "函数</th>\n",
    "<th>\n",
    "位运算符</th>\n",
    "<th>\n",
    "描述说明</th>\n",
    "</tr>\n",
    "<tr>\n",
    "<td>\n",
    "1</td>\n",
    "<td>\n",
    "bitwise_and</td>\n",
    "<td>\n",
    "&amp;</td>\n",
    "<td>\n",
    "计算数组元素之间的按位与运算。</td>\n",
    "</tr>\n",
    "<tr>\n",
    "<td>\n",
    "2</td>\n",
    "<td>\n",
    "bitwise_or</td>\n",
    "<td>\n",
    "|</td>\n",
    "<td>\n",
    "计算数组元素之间的按位或运算。</td>\n",
    "</tr>\n",
    "<tr>\n",
    "<td>\n",
    "3</td>\n",
    "<td>\n",
    "invert</td>\n",
    "<td>\n",
    "~</td>\n",
    "<td>\n",
    "计算数组元素之间的按位取反运算。</td>\n",
    "</tr>\n",
    "<tr>\n",
    "<td>\n",
    "4</td>\n",
    "<td>\n",
    "left_shift</td>\n",
    "<td>\n",
    "&lt;&lt;</td>\n",
    "<td>\n",
    "将二进制数的位数向左移。</td>\n",
    "</tr>\n",
    "<tr>\n",
    "<td>\n",
    "5</td>\n",
    "<td>\n",
    "right_shift</td>\n",
    "<td>\n",
    "&gt;&gt;</td>\n",
    "<td>\n",
    "将二进制数的位数向右移。</td>\n",
    "</tr>\n",
    "</tbody>"
   ]
  },
  {
   "cell_type": "code",
   "execution_count": 26,
   "metadata": {},
   "outputs": [
    {
     "name": "stdout",
     "output_type": "stream",
     "text": [
      "a的二进制数: 0b1010\n",
      "b的二进制数: 0b1100\n",
      "将a与b执行按位与操作: 8\n",
      "将a与b执行按位与操作: 8\n",
      "-11\n"
     ]
    }
   ],
   "source": [
    "a = 10 \n",
    "b = 12 \n",
    "print(\"a的二进制数:\",bin(a)) \n",
    "print(\"b的二进制数:\",bin(b)) \n",
    "\n",
    "print(\"将a与b执行按位与操作:\",np.bitwise_and(a,b))  \n",
    "\n",
    "print(\"将a与b执行按位与操作:\",a&b)  \n",
    "\n",
    "print(~a)\n"
   ]
  },
  {
   "cell_type": "code",
   "execution_count": 31,
   "metadata": {},
   "outputs": [
    {
     "name": "stdout",
     "output_type": "stream",
     "text": [
      "二进制表示: 00010100 00011110\n",
      "[235 225]\n",
      "[235 225]\n",
      "二进制表示:  11101011 11100001\n"
     ]
    }
   ],
   "source": [
    "arr = np.array([20,30],dtype = np.uint8) \n",
    "print(\"二进制表示:\",np.binary_repr(20,8),np.binary_repr(30,8)) # 限定位数\n",
    "print(np.invert(arr)) \n",
    "print(~arr)\n",
    "#进行取反操作\n",
    "print(\"二进制表示: \", np.binary_repr(235,8),np.binary_repr(225,8))  "
   ]
  },
  {
   "cell_type": "markdown",
   "metadata": {},
   "source": [
    "## 数学函数\n",
    "\n"
   ]
  },
  {
   "cell_type": "code",
   "execution_count": 33,
   "metadata": {},
   "outputs": [
    {
     "name": "stdout",
     "output_type": "stream",
     "text": [
      "[0.        0.5       0.8660254 1.       ]\n",
      "[0.         0.52359878 1.04719755 1.57079633]\n",
      "[ 0. 30. 60. 90.]\n",
      "[1.00000000e+00 8.66025404e-01 5.00000000e-01 6.12323400e-17]\n",
      "[0.         0.52359878 1.04719755 1.57079633]\n",
      "[ 0. 30. 60. 90.]\n",
      "[0.00000000e+00 5.77350269e-01 1.73205081e+00 1.63312394e+16]\n",
      "[0.         0.52359878 1.04719755 1.57079633]\n",
      "[ 0. 30. 60. 90.]\n"
     ]
    }
   ],
   "source": [
    "\n",
    "arr = np.array([0, 30, 60, 90]) \n",
    "#正弦值数组\n",
    "sinval = np.sin(arr*np.pi/180) \n",
    "print(sinval) \n",
    "#计算角度反正弦，返回值以弧度为单位\n",
    "cosec = np.arcsin(sinval) \n",
    "print(cosec) \n",
    "#通过degrees函数转化为角度进行验证\n",
    "print(np.degrees(cosec)) \n",
    "#余弦值数组\n",
    "cosval = np.cos(arr*np.pi/180) \n",
    "print(cosval) \n",
    "#计算反余弦值，以弧度为单位\n",
    "sec = np.arccos(cosval) \n",
    "print(sec) \n",
    "#通过degrees函数转化为角度进行验证\n",
    "print(np.degrees(sec)) \n",
    "#下面是tan()正切函数 \n",
    "tanval = np.tan(arr*np.pi/180) \n",
    "print(tanval) \n",
    "cot = np.arctan(tanval) \n",
    "print(cot) \n",
    "print(np.degrees(cot))  "
   ]
  },
  {
   "cell_type": "code",
   "execution_count": 37,
   "metadata": {},
   "outputs": [
    {
     "name": "stdout",
     "output_type": "stream",
     "text": [
      "[ 12.202   90.2312 123.02    23.202 ]\n",
      "数组值四舍五入到小数点后两位 [ 12.2   90.23 123.02  23.2 ]\n",
      "数组值四舍五入到小数点后-1位 [ 10.  90. 120.  20.]\n",
      "[ 12.  90. 123.  23.]\n",
      "[ 13.  91. 124.  24.]\n"
     ]
    }
   ],
   "source": [
    "arr = np.array([12.202, 90.23120, 123.020, 23.202]) \n",
    "print(arr) \n",
    "print(\"数组值四舍五入到小数点后两位\",np.around(arr, 2)) \n",
    "print(\"数组值四舍五入到小数点后-1位\",np.around(arr, -1))  \n",
    "\n",
    "print (np.floor(arr))\n",
    "\n",
    "\n",
    "print (np.ceil(arr))"
   ]
  },
  {
   "cell_type": "markdown",
   "metadata": {},
   "source": [
    "## 统计函数"
   ]
  },
  {
   "cell_type": "code",
   "execution_count": 42,
   "metadata": {},
   "outputs": [
    {
     "name": "stdout",
     "output_type": "stream",
     "text": [
      "45\n",
      "0\n",
      "9\n",
      "[ 0  1  3  6 10 15 21 28 36 45]\n"
     ]
    }
   ],
   "source": [
    "a = np.arange(10)\n",
    "\n",
    "print(a.sum()) # >>>45\n",
    "print(a.min()) # >>>0\n",
    "print(a.max()) # >>>9\n",
    "print(a.cumsum()) # >>>[ 0  1  3  6 10 15 21 28 36 45]"
   ]
  },
  {
   "cell_type": "markdown",
   "metadata": {},
   "source": [
    "<img src=\"https://i.stack.imgur.com/Z29Nn.jpg\">"
   ]
  },
  {
   "cell_type": "code",
   "execution_count": 45,
   "metadata": {},
   "outputs": [
    {
     "name": "stdout",
     "output_type": "stream",
     "text": [
      "数组a是：\n",
      "[[3 7 5]\n",
      " [8 4 3]\n",
      " [2 4 9]]\n",
      "2\n",
      "[3 3 2]\n",
      "9\n",
      "[8 7 9]\n"
     ]
    }
   ],
   "source": [
    "\n",
    "a = np.array([[3,7,5],[8,4,3],[2,4,9]]) \n",
    "print ('数组a是：')\n",
    "print(a)\n",
    "#amin()函数\n",
    "print (np.amin(a))\n",
    "#调用 amin() 函数，axis=1\n",
    "print(np.amin(a,1))\n",
    "#调用amax()函数\n",
    "print(np.amax(a))\n",
    "\n",
    "#再次调用amax()函数\n",
    "print(np.amax(a,0))# !求出来是各列数组的统计量，按行，跨列"
   ]
  },
  {
   "cell_type": "code",
   "execution_count": 14,
   "metadata": {},
   "outputs": [
    {
     "name": "stdout",
     "output_type": "stream",
     "text": [
      "原数组 [[ 2 10 20]\n",
      " [80 43 31]\n",
      " [22 43 10]]\n",
      "沿着axis 1: [18 49 33]\n",
      "沿着axis 0: [[78 33 21]]\n"
     ]
    }
   ],
   "source": [
    "a = np.array([[2,10,20],[80,43,31],[22,43,10]]) \n",
    "print(\"原数组\",a) \n",
    "print(\"沿着axis 1:\",np.ptp(a,1)) \n",
    "print(\"沿着axis 0:\",np.ptp(a,0)) "
   ]
  },
  {
   "cell_type": "code",
   "execution_count": 24,
   "metadata": {},
   "outputs": [
    {
     "name": "stdout",
     "output_type": "stream",
     "text": [
      "6\n"
     ]
    }
   ],
   "source": [
    "a=np.array([3,1,2,4,6,1])\n",
    "print(np.amax(a,0))\n"
   ]
  },
  {
   "cell_type": "code",
   "execution_count": 23,
   "metadata": {},
   "outputs": [
    {
     "name": "stdout",
     "output_type": "stream",
     "text": [
      "\n",
      "[[[2. 2. 2. 2. 2.]\n",
      "  [2. 2. 2. 2. 2.]\n",
      "  [2. 2. 2. 2. 2.]\n",
      "  [2. 2. 2. 2. 2.]]\n",
      "\n",
      " [[2. 2. 2. 2. 2.]\n",
      "  [2. 2. 2. 2. 2.]\n",
      "  [2. 2. 2. 2. 2.]\n",
      "  [2. 2. 2. 2. 2.]]\n",
      "\n",
      " [[2. 2. 2. 2. 2.]\n",
      "  [2. 2. 2. 2. 2.]\n",
      "  [2. 2. 2. 2. 2.]\n",
      "  [2. 2. 2. 2. 2.]]]\n",
      "[[[3. 3. 3. 3. 3.]\n",
      "  [3. 3. 3. 3. 3.]\n",
      "  [3. 3. 3. 3. 3.]\n",
      "  [3. 3. 3. 3. 3.]]\n",
      "\n",
      " [[3. 3. 3. 3. 3.]\n",
      "  [3. 3. 3. 3. 3.]\n",
      "  [3. 3. 3. 3. 3.]\n",
      "  [3. 3. 3. 3. 3.]]]\n",
      "[[[4. 4. 4. 4. 4.]\n",
      "  [4. 4. 4. 4. 4.]\n",
      "  [4. 4. 4. 4. 4.]]\n",
      "\n",
      " [[4. 4. 4. 4. 4.]\n",
      "  [4. 4. 4. 4. 4.]\n",
      "  [4. 4. 4. 4. 4.]]]\n"
     ]
    }
   ],
   "source": [
    "a=np.ones([2,3,4,5])\n",
    "print()\n",
    "print(np.sum(a,0))\n",
    "print(np.sum(a,1))\n",
    "print(np.sum(a,2)) \n",
    "\n",
    "\n",
    "# *返回的矩阵类型是原维度除去axis的维度"
   ]
  },
  {
   "cell_type": "markdown",
   "metadata": {},
   "source": [
    "## 排序和搜索"
   ]
  },
  {
   "cell_type": "code",
   "execution_count": 3,
   "metadata": {},
   "outputs": [
    {
     "name": "stdout",
     "output_type": "stream",
     "text": [
      "a数组是：\n",
      "[[3 7]\n",
      " [9 1]]\n",
      "[[3 7]\n",
      " [1 9]]\n",
      "[[3 1]\n",
      " [9 7]]\n",
      "[(b'raju', 21) (b'anil', 25) (b'ravi', 17) (b'amar', 27)]\n",
      "[(b'amar', 27) (b'anil', 25) (b'raju', 21) (b'ravi', 17)]\n"
     ]
    }
   ],
   "source": [
    "a = np.array([[3,7],[9,1]]) \n",
    "print('a数组是：')\n",
    "print(a)\n",
    "#调用sort()函数\n",
    "print(np.sort(a))\n",
    "#按列排序：\n",
    "print(np.sort(a, axis = 0))\n",
    "#设置在sort函数中排序字段\n",
    "dt = np.dtype([('name',  'S10'),('age',  int)])\n",
    "a = np.array([(\"raju\",21),(\"anil\",25),(\"ravi\",  17),  (\"amar\",27)], dtype = dt) \n",
    "#再次打印a数组\n",
    "print(a)\n",
    "#按name字段排序\n",
    "print(np.sort(a, order = 'name'))"
   ]
  },
  {
   "cell_type": "code",
   "execution_count": 4,
   "metadata": {},
   "outputs": [
    {
     "name": "stdout",
     "output_type": "stream",
     "text": [
      "原数组 [90 29 89 12]\n",
      "打印排序元素索引值 [3 1 2 0]\n",
      "打印排序数组\n",
      "12 29 89 90 "
     ]
    }
   ],
   "source": [
    "# argsort() 沿着指定的轴，对输入数组的元素值进行排序，并返回排序后的元素索引数组。\n",
    "a = np.array([90, 29, 89, 12]) \n",
    "print(\"原数组\",a) \n",
    "sort_ind = np.argsort(a) \n",
    "print(\"打印排序元素索引值\",sort_ind) \n",
    "#!使用索引数组对原数组排序\n",
    "sort_a = a[sort_ind] \n",
    "print(\"打印排序数组\") \n",
    "for i in sort_ind: \n",
    "    print(a[i],end = \" \")  "
   ]
  },
  {
   "cell_type": "code",
   "execution_count": 5,
   "metadata": {},
   "outputs": [
    {
     "name": "stdout",
     "output_type": "stream",
     "text": [
      "[0 3 1 4 2]\n",
      "a 12\n",
      "d 12\n",
      "b 90\n",
      "e 211\n",
      "c 380\n"
     ]
    }
   ],
   "source": [
    "# numpy.lexsort() 按键序列对数组进行排序，它返回一个已排序的索引数组，类似于 numpy.argsort()。\n",
    "a = np.array(['a','b','c','d','e']) \n",
    "b = np.array([12, 90, 380, 12, 211]) \n",
    "ind = np.lexsort((a,b)) \n",
    "#打印排序元素的索引数组\n",
    "print(ind) \n",
    "#使用索引数组对数组进行排序\n",
    "for i in ind: \n",
    "    print(a[i],b[i])  "
   ]
  },
  {
   "cell_type": "code",
   "execution_count": 9,
   "metadata": {},
   "outputs": [
    {
     "name": "stdout",
     "output_type": "stream",
     "text": [
      "[[0. 1. 2.]\n",
      " [3. 4. 5.]\n",
      " [6. 7. 8.]]\n",
      "[[ True False  True]\n",
      " [False  True False]\n",
      " [ True False  True]]\n",
      "[0. 2. 4. 6. 8.]\n"
     ]
    }
   ],
   "source": [
    "# !相当于filter\n",
    "\n",
    "x = np.arange(9.).reshape(3, 3)\n",
    "print(x) \n",
    "#设置条件选择偶数元素\n",
    "condition = np.mod(x,2)== 0\n",
    "#输出布尔值数组\n",
    "print(condition)\n",
    "#按condition提取满足条件的元素值\n",
    "print (np.extract(condition, x))"
   ]
  },
  {
   "cell_type": "code",
   "execution_count": 11,
   "metadata": {},
   "outputs": [
    {
     "name": "stdout",
     "output_type": "stream",
     "text": [
      "[[30 40 70]\n",
      " [80 20 10]\n",
      " [50 90 60]]\n",
      "7\n",
      "[30 40 70 80 20 10 50 90 60]\n",
      "[1 2 0]\n",
      "[2 0 1]\n"
     ]
    }
   ],
   "source": [
    "# 返回最大值索引\n",
    "a = np.array([[30,40,70],[80,20,10],[50,90,60]]) \n",
    "#a数组\n",
    "print (a)\n",
    "#argmax() 函数\n",
    "print (np.argmax(a))\n",
    "#将数组以一维展开\n",
    "print (a.flatten())\n",
    "#沿轴 0 的最大值索引：\n",
    "maxindex = np.argmax(a, axis =  0) \n",
    "print (maxindex)\n",
    "#沿轴 1 的最大值索引\n",
    "maxindex = np.argmax(a, axis =  1) \n",
    "print (maxindex) "
   ]
  },
  {
   "cell_type": "markdown",
   "metadata": {},
   "source": [
    "## 副本和视图"
   ]
  },
  {
   "cell_type": "code",
   "execution_count": 75,
   "metadata": {},
   "outputs": [
    {
     "name": "stdout",
     "output_type": "stream",
     "text": [
      "原数组 [[ 1  2  3  4]\n",
      " [ 9  0  2  3]\n",
      " [ 1  2  3 19]]\n",
      "数组a的ID: 140102181481248\n",
      "数组b的ID: 140102181548640\n",
      "[[ 1  2  3  4]\n",
      " [ 9  0  2  3]\n",
      " [ 1  2  3 19]]\n",
      "原数组a [[ 1  2  3  4]\n",
      " [ 9  0  2  3]\n",
      " [ 1  2  3 19]]\n",
      "新数组b [[ 1  2  3]\n",
      " [ 4  9  0]\n",
      " [ 2  3  1]\n",
      " [ 2  3 19]]\n",
      "修改b后a的值[[10  2  3  4]\n",
      " [ 9  0  2  3]\n",
      " [ 1  2  3 19]]\n"
     ]
    }
   ],
   "source": [
    "import numpy as np \n",
    "a = np.array([[1,2,3,4],[9,0,2,3],[1,2,3,19]]) \n",
    "print(\"原数组\",a) \n",
    "print(\"数组a的ID:\",id(a)) \n",
    "b = a.view() \n",
    "print(\"数组b的ID:\",id(b)) \n",
    "#打印b数组\n",
    "print(b) \n",
    "#改变b数组形状\n",
    "b.shape = 4,3\n",
    "print(\"原数组a\",a) # !不影响原数组的形状\n",
    "print(\"新数组b\",b) \n",
    "b[0,0]=10\n",
    "\n",
    "print(f'修改b后a的值{a}')# !被改变，说明共享同一段内存\n"
   ]
  },
  {
   "cell_type": "code",
   "execution_count": 22,
   "metadata": {},
   "outputs": [
    {
     "name": "stdout",
     "output_type": "stream",
     "text": [
      "a: 0x7f6c15714c10 \n",
      " [[10  2  3  4]\n",
      " [ 9  0  2  3]\n",
      " [ 1  2  3 19]]\n",
      "b: 0x7f6c15714c10 \n",
      " [[10  2  3  4]\n",
      " [ 9  0  2  3]\n",
      " [ 1  2  3 19]]\n",
      "c: 0x7f6c1564a990 \n",
      " [[10  2  3  4]\n",
      " [ 9  0  2  3]\n",
      " [ 1  2  3 19]]\n",
      "d: 0x7f6c1564abc0 \n",
      " [[10  2  3  4]\n",
      " [ 9  0  2  3]\n",
      " [ 1  2  3 19]]\n",
      "e: 0x7f6c156988f0 \n",
      " [[10  2  3  4]\n",
      " [ 9  0  2  3]\n",
      " [ 1  2  3 19]]\n"
     ]
    }
   ],
   "source": [
    "b = a\n",
    "c = a[()]\n",
    "d = a[:]\n",
    "e = a.copy()\n",
    "print('a:', hex(id(a)), '\\n', a)# !查看内存\n",
    "print('b:', hex(id(b)), '\\n', b)\n",
    "print('c:', hex(id(c)), '\\n', c)\n",
    "print('d:', hex(id(d)), '\\n', d)\n",
    "print('e:', hex(id(e)), '\\n', e)\n",
    "# 除了直接复制都位于不同的位置\n"
   ]
  },
  {
   "cell_type": "code",
   "execution_count": 23,
   "metadata": {},
   "outputs": [
    {
     "name": "stdout",
     "output_type": "stream",
     "text": [
      "a: 0x7f6c15714c10 \n",
      " [[ 5 -3 -2 -1]\n",
      " [ 4 -5 -3 -2]\n",
      " [-4 -3 -2 14]]\n",
      "b: 0x7f6c15714c10 \n",
      " [[ 5 -3 -2 -1]\n",
      " [ 4 -5 -3 -2]\n",
      " [-4 -3 -2 14]]\n",
      "c: 0x7f6c1564a990 \n",
      " [[ 5 -3 -2 -1]\n",
      " [ 4 -5 -3 -2]\n",
      " [-4 -3 -2 14]]\n",
      "d: 0x7f6c1564abc0 \n",
      " [[ 5 -3 -2 -1]\n",
      " [ 4 -5 -3 -2]\n",
      " [-4 -3 -2 14]]\n",
      "e: 0x7f6c156988f0 \n",
      " [[10  2  3  4]\n",
      " [ 9  0  2  3]\n",
      " [ 1  2  3 19]]\n"
     ]
    }
   ],
   "source": [
    "a -= 5\n",
    "print('a:', hex(id(a)), '\\n', a)\n",
    "print('b:', hex(id(b)), '\\n', b)\n",
    "print('c:', hex(id(c)), '\\n', c)\n",
    "print('d:', hex(id(d)), '\\n', d)\n",
    "print('e:', hex(id(e)), '\\n', e)\n",
    "# !除了copy都改变了,copy是深拷贝"
   ]
  },
  {
   "cell_type": "code",
   "execution_count": 76,
   "metadata": {},
   "outputs": [
    {
     "name": "stdout",
     "output_type": "stream",
     "text": [
      "a-b share mem: True\n",
      "a-c share mem: False\n",
      "a-d share mem: False\n",
      "a-e share mem: False\n",
      "[[10  2  3  4]\n",
      " [ 9  0  2  3]\n",
      " [ 1  2  3 19]]\n",
      "530 ns ± 45.2 ns per loop (mean ± std. dev. of 7 runs, 1,000,000 loops each)\n",
      "396 ns ± 33.4 ns per loop (mean ± std. dev. of 7 runs, 1,000,000 loops each)\n"
     ]
    }
   ],
   "source": [
    "print('a-b share mem:', np.may_share_memory(a,b))\n",
    "print('a-c share mem:', np.may_share_memory(a,c))\n",
    "print('a-d share mem:', np.may_share_memory(a,d))\n",
    "print('a-e share mem:', np.may_share_memory(a,e))\n",
    "# !说明c,d都是视窗view\n",
    "c.shape=1,-1\n",
    "d.shape=2,-1\n",
    "# !都对a的形状无影响\n",
    "print(a)\n",
    "%timeit x=a[:]\n",
    "%timeit x=a[()]"
   ]
  },
  {
   "cell_type": "markdown",
   "metadata": {},
   "source": [
    "用arr\\[()]和arr\\[:]代替view()更简便 前者更快"
   ]
  }
 ],
 "metadata": {
  "interpreter": {
   "hash": "df0893f56f349688326838aaeea0de204df53a132722cbd565e54b24a8fec5f6"
  },
  "kernelspec": {
   "display_name": "Python 3.8.10 64-bit",
   "language": "python",
   "name": "python3"
  },
  "language_info": {
   "codemirror_mode": {
    "name": "ipython",
    "version": 3
   },
   "file_extension": ".py",
   "mimetype": "text/x-python",
   "name": "python",
   "nbconvert_exporter": "python",
   "pygments_lexer": "ipython3",
   "version": "3.8.10"
  },
  "orig_nbformat": 4
 },
 "nbformat": 4,
 "nbformat_minor": 2
}
